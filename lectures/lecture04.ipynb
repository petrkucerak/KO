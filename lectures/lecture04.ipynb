{
 "cells": [
  {
   "cell_type": "markdown",
   "metadata": {},
   "source": [
    "# Shortest Path with Negative Cycle is NP-hard\n",
    "\n",
    "Existence of a Hamiltonian cycle (cycle visiting every node exactly\n",
    "once) in directed graph G is polynomial-time reducible to the Shortest\n",
    "path problem:\n",
    "\n",
    "- Create $G′$ as a weighted version of graph G with weights equal to $-1$.\n",
    "- Create new $v′ ∈ G′$ as a duplicate of one arbitrary vertex $v ∈ G′$ including its edges.\n",
    "- Create source vertex $s$, destination vertex $t$ and edges $(s, v)$ and $(v′, t)$ with weights equal to $0$.\n",
    "- The length of the shortest path from $s$ to $t$ in $G′$ is equal to $-|V (G )|$ if and only if there is a Hamiltonian cycle in graph $G$.\n",
    "\n",
    "Note: Every cycle in graph $G$ leads to a negative cycle in graph $G′$.\n",
    "\n",
    "![image.png](../assets/image2.png)\n",
    "\n",
    "Added vertex $S$ as as start and vertex $T$ as a target. And to make it Hamilton cycle, add $-1$ values.\n",
    "\n",
    "\n",
    "## NP (non polynomial)\n",
    "\n",
    "Musí platit:\n",
    "1. úlohy jsou v NP,\n",
    "2. všechny úlohy jsou na ně převeditelné.\n",
    "\n",
    "## NP hard (obtížné)\n",
    "\n",
    "Jsou převeditelné na NP.\n",
    "\n",
    "\n",
    "# Bellman's Principle of Optimality\n",
    "\n",
    "## Theorem - Bellman’s Principle of Optimality\n",
    "Suppose we have digraph $G$ , weights $c : E (G ) → R$, no negative cycles.\n",
    "Let $k ∈ N$, and let $s$ and $w$ be two vertices. Let $P^k$ be a shortest one\n",
    "among all s-w-paths with at most $k$ edges, and let $e = (v , w )$ be its ﬁnal\n",
    "edge. Then $P^{k−1}[s, v]$ (i.e. $P^k$ without the edge $e$) is a shortest one\n",
    "among all s-v-paths with at most $k − 1$ edges."
   ]
  }
 ],
 "metadata": {
  "kernelspec": {
   "display_name": "Python 3",
   "language": "python",
   "name": "python3"
  },
  "language_info": {
   "name": "python",
   "version": "3.12.2"
  }
 },
 "nbformat": 4,
 "nbformat_minor": 2
}
