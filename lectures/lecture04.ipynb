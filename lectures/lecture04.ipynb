{
 "cells": [
  {
   "cell_type": "markdown",
   "metadata": {},
   "source": [
    "# Shortest Path with Negative Cycle is NP-hard\n",
    "\n",
    "Existence of a Hamiltonian cycle (cycle visiting every node exactly\n",
    "once) in directed graph G is polynomial-time reducible to the Shortest\n",
    "path problem:\n",
    "\n",
    "- Create $G′$ as a weighted version of graph G with weights equal to $-1$.\n",
    "- Create new $v′ ∈ G′$ as a duplicate of one arbitrary vertex $v ∈ G′$ including its edges.\n",
    "- Create source vertex $s$, destination vertex $t$ and edges $(s, v)$ and $(v′, t)$ with weights equal to $0$.\n",
    "- The length of the shortest path from $s$ to $t$ in $G′$ is equal to $-|V (G )|$ if and only if there is a Hamiltonian cycle in graph $G$.\n",
    "\n",
    "Note: Every cycle in graph $G$ leads to a negative cycle in graph $G′$.\n",
    "\n",
    "![image.png](../assets/image2.png)\n",
    "\n",
    "Added vertex $S$ as as start and vertex $T$ as a target. And to make it Hamilton cycle, add $-1$ values."
   ]
  }
 ],
 "metadata": {
  "kernelspec": {
   "display_name": "Python 3",
   "language": "python",
   "name": "python3"
  },
  "language_info": {
   "name": "python",
   "version": "3.12.2"
  }
 },
 "nbformat": 4,
 "nbformat_minor": 2
}
