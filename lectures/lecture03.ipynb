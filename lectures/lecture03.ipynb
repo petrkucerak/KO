{
 "cells": [
  {
   "cell_type": "code",
   "execution_count": 14,
   "metadata": {},
   "outputs": [
    {
     "name": "stdout",
     "output_type": "stream",
     "text": [
      "Gurobi Optimizer version 11.0.0 build v11.0.0rc2 (win64 - Windows 11+.0 (22631.2))\n",
      "\n",
      "CPU model: 11th Gen Intel(R) Core(TM) i5-1145G7 @ 2.60GHz, instruction set [SSE2|AVX|AVX2|AVX512]\n",
      "Thread count: 4 physical cores, 8 logical processors, using up to 8 threads\n",
      "\n",
      "Optimize a model with 2 rows, 6 columns and 8 nonzeros\n",
      "Model fingerprint: 0x1ffe5eb4\n",
      "Variable types: 0 continuous, 6 integer (6 binary)\n",
      "Coefficient statistics:\n",
      "  Matrix range     [1e+00, 7e+00]\n",
      "  Objective range  [8e+00, 2e+01]\n",
      "  Bounds range     [1e+00, 1e+00]\n",
      "  RHS range        [1e+01, 1e+01]\n",
      "Found heuristic solution: objective 42.0000000\n",
      "Presolve removed 2 rows and 6 columns\n",
      "Presolve time: 0.00s\n",
      "Presolve: All rows and columns removed\n",
      "\n",
      "Explored 0 nodes (0 simplex iterations) in 0.02 seconds (0.00 work units)\n",
      "Thread count was 1 (of 8 available processors)\n",
      "\n",
      "Solution count 1: 42 \n",
      "\n",
      "Optimal solution found (tolerance 1.00e-04)\n",
      "Best objective 4.200000000000e+01, best bound 4.200000000000e+01, gap 0.0000%\n",
      "<gurobi.Var C0 (value 0.0)>\n",
      "<gurobi.Var C1 (value 0.0)>\n",
      "<gurobi.Var C2 (value 1.0)>\n",
      "<gurobi.Var C3 (value 0.0)>\n",
      "<gurobi.Var C4 (value 1.0)>\n",
      "<gurobi.Var C5 (value 1.0)>\n"
     ]
    }
   ],
   "source": [
    "import gurobipy as g  # import Gurobi\n",
    "\n",
    "m = g.Model()\n",
    "\n",
    "income = [16, 22, 12, 8, 11, 19]\n",
    "price = [5, 7, 4, 3, 4, 6]\n",
    "\n",
    "x = m.addVars(len(income), vtype=g.GRB.BINARY)\n",
    "\n",
    "m.setObjective(sum(x[i]*income[i] for i in range(len(income))), sense=g.GRB.MAXIMIZE)\n",
    "\n",
    "m.addConstr(sum(x[i]*price[i] for i in range(len(price))) <= 14)\n",
    "m.addConstr(x[1]>=x[0])\n",
    "\n",
    "m.optimize()\n",
    "\n",
    "for i in range(len(x)):\n",
    "   print(x[i].x)\n"
   ]
  }
 ],
 "metadata": {
  "kernelspec": {
   "display_name": "Python 3",
   "language": "python",
   "name": "python3"
  },
  "language_info": {
   "name": "python",
   "version": "3.12.2"
  }
 },
 "nbformat": 4,
 "nbformat_minor": 2
}
