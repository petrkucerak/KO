{
  "cells": [
    {
      "cell_type": "code",
      "execution_count": null,
      "metadata": {
        "colab": {
          "base_uri": "https://localhost:8080/"
        },
        "id": "6m3k8mGWMUq-",
        "outputId": "0fbcce04-4fb4-436c-b6f4-a411f057b6d3",
        "pycharm": {
          "is_executing": true
        }
      },
      "outputs": [
        {
          "ename": "",
          "evalue": "",
          "output_type": "error",
          "traceback": [
            "\u001b[1;31mRunning cells with 'c:\\Users\\Petr.Kucera\\AppData\\Local\\Microsoft\\WindowsApps\\python3.10.exe' requires the ipykernel package.\n",
            "\u001b[1;31mRun the following command to install 'ipykernel' into the Python environment. \n",
            "\u001b[1;31mCommand: 'c:/Users/Petr.Kucera/AppData/Local/Microsoft/WindowsApps/python3.10.exe -m pip install ipykernel -U --user --force-reinstall'"
          ]
        }
      ],
      "source": [
        "!pip install gurobipy\n",
        "import gurobipy as g"
      ]
    },
    {
      "cell_type": "markdown",
      "metadata": {
        "id": "HoaomivMMZn_"
      },
      "source": [
        "**Sanity check** whether we have installed Gurobi"
      ]
    },
    {
      "cell_type": "code",
      "execution_count": null,
      "metadata": {
        "colab": {
          "base_uri": "https://localhost:8080/"
        },
        "id": "P1QPswNTMUrA",
        "outputId": "8abd3ae8-802c-43d0-99a1-38e9c13df297"
      },
      "outputs": [
        {
          "ename": "",
          "evalue": "",
          "output_type": "error",
          "traceback": [
            "\u001b[1;31mRunning cells with 'c:\\Users\\Petr.Kucera\\AppData\\Local\\Microsoft\\WindowsApps\\python3.10.exe' requires the ipykernel package.\n",
            "\u001b[1;31mRun the following command to install 'ipykernel' into the Python environment. \n",
            "\u001b[1;31mCommand: 'c:/Users/Petr.Kucera/AppData/Local/Microsoft/WindowsApps/python3.10.exe -m pip install ipykernel -U --user --force-reinstall'"
          ]
        }
      ],
      "source": [
        "model = g.Model()\n",
        "model.optimize()"
      ]
    },
    {
      "cell_type": "markdown",
      "metadata": {
        "id": "blqLoIdcMliO"
      },
      "source": [
        "Basic example how to model linear programming problem. Problem contains two variables (we can easily make them integer by changing the appropiate vtype), three constraints and maximization objective."
      ]
    },
    {
      "cell_type": "code",
      "execution_count": null,
      "metadata": {
        "colab": {
          "base_uri": "https://localhost:8080/"
        },
        "id": "pgZotJV4MUrB",
        "outputId": "c7853750-98a8-4ebf-a55a-31f6024c7aff"
      },
      "outputs": [
        {
          "ename": "",
          "evalue": "",
          "output_type": "error",
          "traceback": [
            "\u001b[1;31mRunning cells with 'c:\\Users\\Petr.Kucera\\AppData\\Local\\Microsoft\\WindowsApps\\python3.10.exe' requires the ipykernel package.\n",
            "\u001b[1;31mRun the following command to install 'ipykernel' into the Python environment. \n",
            "\u001b[1;31mCommand: 'c:/Users/Petr.Kucera/AppData/Local/Microsoft/WindowsApps/python3.10.exe -m pip install ipykernel -U --user --force-reinstall'"
          ]
        }
      ],
      "source": [
        "import gurobipy as g\n",
        "\n",
        "# Create empty optimization model.\n",
        "# In Python, only one environment exists and it is created internally\n",
        "# in the Model() constructor.\n",
        "model = g.Model()\n",
        "\n",
        "# Create variables x, y.\n",
        "x = model.addVar(lb=0, ub=g.GRB.INFINITY, vtype=g.GRB.CONTINUOUS, name=\"x\")\n",
        "y = model.addVar(lb=0, ub=g.GRB.INFINITY, vtype=g.GRB.CONTINUOUS, name=\"y\")\n",
        "\n",
        "# Set objective: maximize 32x + 25y\n",
        "model.setObjective(32*x + 25*y, sense=g.GRB.MAXIMIZE)\n",
        "\n",
        "# Add constraint: 5x + 4y <= 59\n",
        "model.addConstr(5*x + 4*y <= 59, \"cons1\")\n",
        "\n",
        "# Add constraint: 4x + 3y <= 46\n",
        "model.addConstr(4*x + 3*y <= 46, \"cons2\")\n",
        "\n",
        "# Solve the model.\n",
        "model.optimize()\n",
        "\n",
        "# Number of solutions found by the solver\n",
        "sol_count = model.getAttr(\"SolCount\")\n",
        "\n",
        "\n",
        "# Print the objective and the values of the decision variables in the solution.\n",
        "print(\"Optimal objective:\", model.objVal)\n",
        "print(\"x:\", x.x, \"y:\", y.x)\n",
        "print(\"Solutions\", sol_count)"
      ]
    },
    {
      "cell_type": "markdown",
      "metadata": {
        "id": "0eoSM-M0NXM9"
      },
      "source": [
        "**Diet problem example**\n",
        "\n",
        "The cook needs to prepare a lunch for pupils. Each lunch needs to contain the minimum amount of each of the nutrient groups, but we also want to produce as cheap lunch as possible.\n",
        "\n",
        "Nutrients per food type unit:\n",
        "* potatoes - 2 units of sugars, 2 units of protein, 1 unit of vitamins\n",
        "* meat - 1 unit of sugars, 6 units of protein, 3 units of vitamins\n",
        "* vegetables - 1 unit of sugars, 1 unit of protein, 6 units of vitamins\n",
        "\n",
        "Meal must contain at least 8 units of sugar, 16 units of protein and 8 units of vitamins. Potatoes cost 25 crowns per unit, meat 50 crowns, vegetables 80 crowns."
      ]
    },
    {
      "cell_type": "code",
      "execution_count": null,
      "metadata": {
        "colab": {
          "base_uri": "https://localhost:8080/",
          "height": 575
        },
        "id": "wKmTdJU5MUrC",
        "outputId": "36f24b15-920a-490c-9b20-b94975f7f094"
      },
      "outputs": [
        {
          "ename": "",
          "evalue": "",
          "output_type": "error",
          "traceback": [
            "\u001b[1;31mRunning cells with 'c:\\Users\\Petr.Kucera\\AppData\\Local\\Microsoft\\WindowsApps\\python3.10.exe' requires the ipykernel package.\n",
            "\u001b[1;31mRun the following command to install 'ipykernel' into the Python environment. \n",
            "\u001b[1;31mCommand: 'c:/Users/Petr.Kucera/AppData/Local/Microsoft/WindowsApps/python3.10.exe -m pip install ipykernel -U --user --force-reinstall'"
          ]
        }
      ],
      "source": [
        "import gurobipy as g\n",
        "\n",
        "model = g.Model()\n",
        "\n",
        "# variables\n",
        "\n",
        "# sugar constraint\n",
        "\n",
        "# protein constraint\n",
        "\n",
        "# vitamin constraint\n",
        "\n",
        "# criterion\n",
        "\n",
        "model.optimize()\n",
        "print(\"cost \", model.objVal)\n",
        "print(\"potatoes \", potato.x)\n",
        "print(\"meat \", meat.x)\n",
        "print(\"vegetable \", vegetable.x)"
      ]
    },
    {
      "cell_type": "code",
      "execution_count": null,
      "metadata": {
        "id": "o-yAT2w7MUrF"
      },
      "outputs": [
        {
          "ename": "",
          "evalue": "",
          "output_type": "error",
          "traceback": [
            "\u001b[1;31mRunning cells with 'c:\\Users\\Petr.Kucera\\AppData\\Local\\Microsoft\\WindowsApps\\python3.10.exe' requires the ipykernel package.\n",
            "\u001b[1;31mRun the following command to install 'ipykernel' into the Python environment. \n",
            "\u001b[1;31mCommand: 'c:/Users/Petr.Kucera/AppData/Local/Microsoft/WindowsApps/python3.10.exe -m pip install ipykernel -U --user --force-reinstall'"
          ]
        }
      ],
      "source": []
    }
  ],
  "metadata": {
    "colab": {
      "provenance": []
    },
    "kernelspec": {
      "display_name": "Python 3 (ipykernel)",
      "language": "python",
      "name": "python3"
    },
    "language_info": {
      "codemirror_mode": {
        "name": "ipython",
        "version": 3
      },
      "file_extension": ".py",
      "mimetype": "text/x-python",
      "name": "python",
      "nbconvert_exporter": "python",
      "pygments_lexer": "ipython3",
      "version": "3.10.11"
    }
  },
  "nbformat": 4,
  "nbformat_minor": 0
}
