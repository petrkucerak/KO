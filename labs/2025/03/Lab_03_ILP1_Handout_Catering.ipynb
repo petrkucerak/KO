{
  "cells": [
    {
      "cell_type": "markdown",
      "metadata": {
        "id": "LAJOueyJmACy"
      },
      "source": [
        "# The Catering Problem\n",
        "\n",
        "## Motivation\n",
        "\n",
        "A catering company to cook $n$ dishes, but has only one available oven.\n",
        "    At most a single dish can be inside the oven at one time.    \n",
        "    Each dish $i$ has its earliest time when it can be put into the oven $r_i$ (since it needs to be prepared before it is put into the oven), the latest time it should be taken from the oven $d_i$ (since the customers do not want to wait too long), and the time it needs to stay in the oven $p_i$.\n",
        "    The goal is to find the vector of times $\\mathbf{s} = (s_0, \\dots, s_{n-1})$ (denoting the times when each dish is put into the oven) such that the finish time of the last dish is minimal.\n",
        "    \n",
        "## Input\n",
        "\n",
        "You are given the following:\n",
        "* number of dished $n$\n",
        "* parameters $r_i$, $d_i$ and $p_i$ for each dish $i$\n",
        "\n",
        "For the testing purposes, you can experiment with the following instance:"
      ]
    },
    {
      "cell_type": "code",
      "execution_count": 1,
      "metadata": {
        "colab": {
          "base_uri": "https://localhost:8080/"
        },
        "id": "nj3T04G3mAC1",
        "outputId": "54531456-b54d-43ab-ff43-095c686607f0"
      },
      "outputs": [
        {
          "name": "stdout",
          "output_type": "stream",
          "text": [
            "Defaulting to user installation because normal site-packages is not writeable\n",
            "Requirement already satisfied: gurobipy in c:\\users\\trpe\\appdata\\local\\packages\\pythonsoftwarefoundation.python.3.12_qbz5n2kfra8p0\\localcache\\local-packages\\python312\\site-packages (12.0.1)\n"
          ]
        }
      ],
      "source": [
        "!pip install gurobipy\n",
        "n = 5\n",
        "params = {\n",
        "    0: {'r': 20, 'd': 45, 'p': 15},\n",
        "    1: {'r':  4, 'd': 30, 'p': 19},\n",
        "    2: {'r':  5, 'd': 80, 'p': 20},\n",
        "    3: {'r': 17, 'd': 70, 'p':  8},\n",
        "    4: {'r': 27, 'd': 66, 'p':  7}\n",
        "}\n",
        "\n",
        "# Note: parameter d_1 can be obtained by params[1][\"d\"]"
      ]
    },
    {
      "cell_type": "markdown",
      "metadata": {
        "id": "-8CN-csvmAC2"
      },
      "source": [
        "## Output\n",
        "\n",
        "You are expected to find the vector $\\mathbf{s} = (s_0, \\dots, s_{n-1})$ denoting the times when each dish should be put into the oven.\n",
        "\n",
        "The optimal solution vector for the given instance is $\\mathbf{s} = (23, 4, 53, 38, 46)$.\n",
        "\n",
        "## Exercise\n",
        "\n",
        "Your task is to formulate the ILP model of the catering problem, solve it, and extract the vector $\\mathbf{s}$. The example solution follows:"
      ]
    },
    {
      "cell_type": "markdown",
      "metadata": {
        "id": "5KJY3HFrmAC3"
      },
      "source": [
        "Hint: to ensure that any two dishes $i$ and $j$ are not overlapping in the oven, you need to ensure that one of the following constraints holds: $s_i + p_i \\leq s_j$ or $s_j + p_j \\leq s_i$. This might be perhaps done using big-M..."
      ]
    },
    {
      "cell_type": "code",
      "execution_count": 2,
      "metadata": {
        "colab": {
          "base_uri": "https://localhost:8080/"
        },
        "id": "vNHACeYemAC3",
        "outputId": "92d34d62-17ed-4e62-f086-1a9006c8c9d4"
      },
      "outputs": [
        {
          "name": "stdout",
          "output_type": "stream",
          "text": [
            "Set parameter Username\n",
            "Set parameter LicenseID to value 2629039\n",
            "Academic license - for non-commercial use only - expires 2026-02-27\n",
            "Gurobi Optimizer version 12.0.1 build v12.0.1rc0 (win64 - Windows 11.0 (26100.2))\n",
            "\n",
            "CPU model: Intel(R) Core(TM) Ultra 9 185H, instruction set [SSE2|AVX|AVX2]\n",
            "Thread count: 16 physical cores, 22 logical processors, using up to 22 threads\n",
            "\n",
            "Optimize a model with 35 rows, 31 columns and 80 nonzeros\n",
            "Model fingerprint: 0x0287ec20\n",
            "Variable types: 6 continuous, 25 integer (25 binary)\n",
            "Coefficient statistics:\n",
            "  Matrix range     [1e+00, 8e+01]\n",
            "  Objective range  [1e+00, 1e+00]\n",
            "  Bounds range     [1e+00, 3e+01]\n",
            "  RHS range        [4e+00, 7e+01]\n",
            "Found heuristic solution: objective 73.0000000\n",
            "Presolve removed 31 rows and 27 columns\n",
            "Presolve time: 0.00s\n",
            "Presolved: 4 rows, 4 columns, 10 nonzeros\n",
            "Variable types: 3 continuous, 1 integer (1 binary)\n",
            "\n",
            "Explored 0 nodes (0 simplex iterations) in 0.04 seconds (0.00 work units)\n",
            "Thread count was 22 (of 22 available processors)\n",
            "\n",
            "Solution count 1: 73 \n",
            "\n",
            "Optimal solution found (tolerance 1.00e-04)\n",
            "Best objective 7.300000000000e+01, best bound 7.300000000000e+01, gap 0.0000%\n",
            "\n",
            "SOLUTION:\n",
            "i: 0, si: 23.0\n",
            "i: 1, si: 4.0\n",
            "i: 2, si: 53.0\n",
            "i: 3, si: 38.0\n",
            "i: 4, si: 46.0\n"
          ]
        }
      ],
      "source": [
        "import gurobipy as g  # import Gurobi module\n",
        "\n",
        "# model -----------------------------------------------------\n",
        "m = g.Model()\n",
        "\n",
        "# - ADD VARIABLES\n",
        "s = m.addVars(n, vtype=g.GRB.CONTINUOUS, lb=[params[i]['r'] for i in range(n)])\n",
        "Cmax = m.addVar()\n",
        "x = m.addVars(n, n, vtype=g.GRB.BINARY)\n",
        "\n",
        "# - ADD CONSTRAINTS\n",
        "for i in range(n):\n",
        "  m.addConstr(s[i] >= params[i]['r'])\n",
        "  m.addConstr(s[i] + params[i]['p'] <= params[i]['d'])\n",
        "  m.addConstr(s[i] + params[i]['p'] <= Cmax)\n",
        "\n",
        "M = max([params[i]['d'] for i in range(n)])\n",
        "for i in range(n):\n",
        "  for j in range(i+1, n):\n",
        "    m.addConstr(s[i] + params[i]['p'] <= s[j] + M*(1-x[i,j]))\n",
        "    m.addConstr(s[j] + params[j]['p'] <= s[i] + M*x[i,j])\n",
        "\n",
        "# - SET OBJECTIVE\n",
        "m.setObjective(Cmax, sense=g.GRB.MINIMIZE)\n",
        "\n",
        "# call the solver -------------------------------------------\n",
        "m.optimize()\n",
        "\n",
        "# print the solution ----------------------------------------\n",
        "print('\\nSOLUTION:')\n",
        "for i in range(n):\n",
        "  print('i: {}, si: {}'.format(i, s[i].x))\n"
      ]
    },
    {
      "cell_type": "markdown",
      "metadata": {
        "id": "21nhmLjAmAC4"
      },
      "source": [
        "## Solution visualization"
      ]
    },
    {
      "cell_type": "code",
      "execution_count": 3,
      "metadata": {
        "colab": {
          "base_uri": "https://localhost:8080/",
          "height": 234
        },
        "id": "svifF3glmAC5",
        "outputId": "e977ff77-2f1b-4394-8f01-de5c4d6b3705"
      },
      "outputs": [
        {
          "data": {
            "image/png": "[encoded data removed]",
            "text/plain": [
              "<Figure size 1000x200 with 1 Axes>"
            ]
          },
          "metadata": {},
          "output_type": "display_data"
        }
      ],
      "source": [
        "import matplotlib.pyplot as plt\n",
        "\n",
        "def plot_solution(s, p):\n",
        "    \"\"\"\n",
        "    s: solution vector\n",
        "    p: processing times\n",
        "    \"\"\"\n",
        "    fig = plt.figure(figsize=(10,2))\n",
        "    ax = plt.gca()\n",
        "    ax.set_xlabel('time')\n",
        "    ax.grid(True)\n",
        "    ax.set_yticks([2.5])\n",
        "    ax.set_yticklabels([\"oven\"])\n",
        "    eps = 0.25  # just to show spaces between the dishes\n",
        "    ax.broken_barh([(s[i], p[i]-eps) for i in range(len(s))], (0, 5),\n",
        "                   facecolors=('tab:orange', 'tab:green', 'tab:red', 'tab:blue', 'tab:gray'))\n",
        "\n",
        "# TODO: plot your solution\n",
        "plot_solution([23.0, 4.0, 53.0, 38.0, 46.0], [params[i][\"p\"] for i in range(n)])"
      ]
    },
    {
      "cell_type": "code",
      "execution_count": 4,
      "metadata": {
        "colab": {
          "base_uri": "https://localhost:8080/",
          "height": 234
        },
        "id": "nchTsfJEmAC6",
        "outputId": "c38216e2-574e-486b-8a5d-d90668a516b5"
      },
      "outputs": [
        {
          "data": {
            "image/png": "[encoded data removed]",
            "text/plain": [
              "<Figure size 1000x200 with 1 Axes>"
            ]
          },
          "metadata": {},
          "output_type": "display_data"
        }
      ],
      "source": [
        "plot_solution([s[i].x for i in range(n)], [params[i][\"p\"] for i in range(n)])"
      ]
    }
  ],
  "metadata": {
    "colab": {
      "provenance": []
    },
    "kernelspec": {
      "display_name": "Python 3",
      "language": "python",
      "name": "python3"
    },
    "language_info": {
      "codemirror_mode": {
        "name": "ipython",
        "version": 3
      },
      "file_extension": ".py",
      "mimetype": "text/x-python",
      "name": "python",
      "nbconvert_exporter": "python",
      "pygments_lexer": "ipython3",
      "version": "3.12.9"
    }
  },
  "nbformat": 4,
  "nbformat_minor": 0
}
