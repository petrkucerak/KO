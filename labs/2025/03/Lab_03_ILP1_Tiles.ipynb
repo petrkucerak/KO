{
  "cells": [
    {
      "cell_type": "markdown",
      "metadata": {
        "id": "M9U6I1jTA-sh"
      },
      "source": [
        "# Tiling the bathroom\n",
        "\n",
        "_Combinatorial Optimization course, FEE CTU in Prague. Created by [Industrial Informatics Department](http://industrialinformatics.fel.cvut.cz)._\n",
        "\n",
        "## Motivation\n",
        "\n",
        "You accidentally dropped a bowling ball in your bathroom, which cracked a significant part of the floor. You successfully removed the debris, but now you must fill the resulting rectangular hole with new tiles. However, the tiles are pretty costly, so you asked the neighbors whether they have any spares. Finally, you acquired several different rectangular tiles whose area is equal to the area of the hole. Are you able to repair the floor?\n",
        "\n",
        "## Input\n",
        "\n",
        "You are given the following:\n",
        "\n",
        "* Rectangle hole in your bathroom of dimensions $A_x,A_y$\n",
        "* $n$ different square tiles described by their size $a_i$\n",
        "\n",
        "For the experiments, you may use the following instance:"
      ]
    },
    {
      "cell_type": "code",
      "execution_count": 1,
      "metadata": {
        "colab": {
          "base_uri": "https://localhost:8080/"
        },
        "id": "imwIw-6_-uTI",
        "outputId": "9033c053-d6ca-450e-dc83-8e29b3aa9014"
      },
      "outputs": [
        {
          "name": "stdout",
          "output_type": "stream",
          "text": [
            "Defaulting to user installation because normal site-packages is not writeable\n",
            "Requirement already satisfied: gurobipy in c:\\users\\trpe\\appdata\\local\\packages\\pythonsoftwarefoundation.python.3.12_qbz5n2kfra8p0\\localcache\\local-packages\\python312\\site-packages (12.0.1)\n"
          ]
        }
      ],
      "source": [
        "!pip install gurobipy"
      ]
    },
    {
      "cell_type": "code",
      "execution_count": 2,
      "metadata": {
        "colab": {
          "base_uri": "https://localhost:8080/"
        },
        "id": "MMnkjagoA-sl",
        "outputId": "94754b6a-5bb8-4523-f2f6-50d3019819a9"
      },
      "outputs": [
        {
          "data": {
            "text/plain": [
              "(1056, 1056)"
            ]
          },
          "execution_count": 2,
          "metadata": {},
          "output_type": "execute_result"
        }
      ],
      "source": [
        "A_x, A_y = 33, 32\n",
        "a = [1, 4, 7, 8, 9, 10, 14, 15, 18]\n",
        "# A_x, A_y = 4, 4\n",
        "# a = [2, 2, 1, 1, 1, 1, 2]\n",
        "n = len(a)\n",
        "\n",
        "A_sq = A_x * A_y\n",
        "tiles_sq = sum(a[i] * a[i] for i in range(n))\n",
        "A_sq, tiles_sq"
      ]
    },
    {
      "cell_type": "markdown",
      "metadata": {
        "id": "LEedBhDvA-sn"
      },
      "source": [
        "## Output\n",
        "\n",
        "You should find a positions of the bottom-left corners of the tiles so you fill the entire hole in your bathroom."
      ]
    },
    {
      "cell_type": "markdown",
      "metadata": {
        "id": "Uo9Pzk5FA-so"
      },
      "source": [
        "## Exercise\n",
        "\n",
        "Implement the ILP model of the problem."
      ]
    },
    {
      "cell_type": "code",
      "execution_count": 3,
      "metadata": {
        "colab": {
          "base_uri": "https://localhost:8080/"
        },
        "id": "fwiKyhkto62g",
        "outputId": "dbdaa829-2398-4c2a-e30f-5f69568687ec"
      },
      "outputs": [
        {
          "name": "stdout",
          "output_type": "stream",
          "text": [
            "Set parameter Username\n",
            "Set parameter LicenseID to value 2629039\n",
            "Academic license - for non-commercial use only - expires 2026-02-27\n",
            "Gurobi Optimizer version 12.0.1 build v12.0.1rc0 (win64 - Windows 11.0 (26100.2))\n",
            "\n",
            "CPU model: Intel(R) Core(TM) Ultra 9 185H, instruction set [SSE2|AVX|AVX2]\n",
            "Thread count: 16 physical cores, 22 logical processors, using up to 22 threads\n",
            "\n",
            "Optimize a model with 198 rows, 180 columns and 594 nonzeros\n",
            "Model fingerprint: 0x80d70b61\n",
            "Variable types: 0 continuous, 180 integer (162 binary)\n",
            "Coefficient statistics:\n",
            "  Matrix range     [1e+00, 1e+03]\n",
            "  Objective range  [0e+00, 0e+00]\n",
            "  Bounds range     [1e+00, 1e+03]\n",
            "  RHS range        [1e+00, 1e+03]\n",
            "Presolve removed 23 rows and 23 columns\n",
            "Presolve time: 0.00s\n",
            "Presolved: 175 rows, 157 columns, 560 nonzeros\n",
            "Variable types: 0 continuous, 157 integer (141 binary)\n",
            "\n",
            "Root relaxation: objective 0.000000e+00, 62 iterations, 0.01 seconds (0.00 work units)\n",
            "\n",
            "    Nodes    |    Current Node    |     Objective Bounds      |     Work\n",
            " Expl Unexpl |  Obj  Depth IntInf | Incumbent    BestBd   Gap | It/Node Time\n",
            "\n",
            "     0     0    0.00000    0    4          -    0.00000      -     -    0s\n",
            "     0     0    0.00000    0   10          -    0.00000      -     -    0s\n",
            "     0     0    0.00000    0   18          -    0.00000      -     -    0s\n",
            "     0     0    0.00000    0    7          -    0.00000      -     -    0s\n",
            "     0     0    0.00000    0    6          -    0.00000      -     -    0s\n",
            "     0     0    0.00000    0    2          -    0.00000      -     -    0s\n",
            "     0     0    0.00000    0    2          -    0.00000      -     -    0s\n",
            "     0     0    0.00000    0    4          -    0.00000      -     -    0s\n",
            "     0     0    0.00000    0    2          -    0.00000      -     -    0s\n",
            "     0     2    0.00000    0    2          -    0.00000      -     -    0s\n",
            "*  653    46              21       0.0000000    0.00000  0.00%  13.3    0s\n",
            "\n",
            "Cutting planes:\n",
            "  Learned: 13\n",
            "  Gomory: 2\n",
            "  Cover: 141\n",
            "  Implied bound: 99\n",
            "  Clique: 21\n",
            "  MIR: 15\n",
            "  StrongCG: 8\n",
            "  Inf proof: 6\n",
            "  Zero half: 1\n",
            "  RLT: 1\n",
            "  Relax-and-lift: 9\n",
            "  PSD: 4\n",
            "\n",
            "Explored 658 nodes (9482 simplex iterations) in 0.11 seconds (0.05 work units)\n",
            "Thread count was 22 (of 22 available processors)\n",
            "\n",
            "Solution count 1: 0 \n",
            "\n",
            "Optimal solution found (tolerance 1.00e-04)\n",
            "Best objective 0.000000000000e+00, best bound 0.000000000000e+00, gap 0.0000%\n"
          ]
        }
      ],
      "source": [
        "# RELATIVE ENCODING\n",
        "\n",
        "import gurobipy as g  # import Gurobi module\n",
        "from itertools import combinations\n",
        "\n",
        "# model --------------------------------------------------\n",
        "m = g.Model()\n",
        "\n",
        "# bottom left rectangles' coordinates\n",
        "xs = m.addVars(n, lb=0, ub=A_sq, vtype=g.GRB.INTEGER)\n",
        "ys = m.addVars(n, lb=0, ub=A_sq, vtype=g.GRB.INTEGER)\n",
        "\n",
        "# relative position variables\n",
        "rp_x = m.addVars(n, n, vtype=g.GRB.BINARY)\n",
        "rp_y = m.addVars(n, n, vtype=g.GRB.BINARY)\n",
        "\n",
        "# This could be embedded into variable creation (0 skipped, because already ensured by lb)\n",
        "for i in range(n):\n",
        "    m.addConstr(xs[i] + a[i] <= A_x)\n",
        "    m.addConstr(ys[i] + a[i] <= A_y)\n",
        "\n",
        "# Solve relative placement (pairs) - so we do not get overlap\n",
        "for i, j in combinations([i for i in range(n)], 2):\n",
        "\n",
        "    # first left to second\n",
        "    m.addConstr(xs[i] + a[i] <= xs[j] + A_sq * (1 - rp_x[i, j]))\n",
        "    # second left to first\n",
        "    m.addConstr(xs[j] + a[j] <= xs[i] + A_sq * (1 - rp_x[j, i]))\n",
        "    # first under the second\n",
        "    m.addConstr(ys[i] + a[i] <= ys[j] + A_sq * (1 - rp_y[i, j]))\n",
        "    # second under the first\n",
        "    m.addConstr(ys[j] + a[j] <= ys[i] + A_sq * (1 - rp_y[j, i]))\n",
        "\n",
        "\n",
        "    # at least one relative position constraint needs to hold to ensure there is no overlap\n",
        "    m.addConstr(rp_x[i, j] + rp_x[j, i] + rp_y[i, j] + rp_y[j, i] >= 1)\n",
        "\n",
        "m.optimize()\n",
        "\n",
        "# Parse for image\n",
        "positions = [(0, 0) for i in range(n)]\n",
        "for i in range(n):\n",
        "    positions[i] = (round(xs[i].x), round(ys[i].x))"
      ]
    },
    {
      "cell_type": "code",
      "execution_count": 4,
      "metadata": {
        "colab": {
          "base_uri": "https://localhost:8080/",
          "height": 341
        },
        "id": "IO9zp51nqp2M",
        "outputId": "b264cf3b-caf9-4322-c9af-2d6c1d2bf2d1"
      },
      "outputs": [
        {
          "name": "stdout",
          "output_type": "stream",
          "text": [
            "Gurobi Optimizer version 12.0.1 build v12.0.1rc0 (win64 - Windows 11.0 (26100.2))\n",
            "\n",
            "CPU model: Intel(R) Core(TM) Ultra 9 185H, instruction set [SSE2|AVX|AVX2]\n",
            "Thread count: 16 physical cores, 22 logical processors, using up to 22 threads\n",
            "\n",
            "Optimize a model with 11626 rows, 19008 columns and 760269 nonzeros\n",
            "Model fingerprint: 0xad859b3d\n",
            "Variable types: 0 continuous, 19008 integer (19008 binary)\n",
            "Coefficient statistics:\n",
            "  Matrix range     [1e+00, 1e+00]\n",
            "  Objective range  [0e+00, 0e+00]\n",
            "  Bounds range     [1e+00, 1e+00]\n",
            "  RHS range        [1e+00, 1e+00]\n",
            "Presolve removed 8282 rows and 8399 columns (presolve time = 5s)...\n",
            "Presolve removed 8282 rows and 8399 columns\n",
            "Presolve time: 5.06s\n",
            "Presolved: 3344 rows, 10609 columns, 470669 nonzeros\n",
            "Variable types: 0 continuous, 10609 integer (10609 binary)\n",
            "Deterministic concurrent LP optimizer: primal and dual simplex\n",
            "Showing primal log only...\n",
            "\n",
            "\n",
            "Root simplex log...\n",
            "\n",
            "Iteration    Objective       Primal Inf.    Dual Inf.      Time\n",
            "       0    0.0000000e+00   1.233900e+04   1.645300e+10      5s\n",
            "   11856    0.0000000e+00   0.000000e+00   0.000000e+00      9s\n",
            "Concurrent spin time: 0.00s\n",
            "\n",
            "Solved with primal simplex\n",
            "\n",
            "Root relaxation: objective 0.000000e+00, 11856 iterations, 4.13 seconds (10.86 work units)\n",
            "\n",
            "    Nodes    |    Current Node    |     Objective Bounds      |     Work\n",
            " Expl Unexpl |  Obj  Depth IntInf | Incumbent    BestBd   Gap | It/Node Time\n",
            "\n",
            "*    0     0               0       0.0000000    0.00000  0.00%     -    9s\n",
            "\n",
            "Explored 1 nodes (11856 simplex iterations) in 9.40 seconds (14.42 work units)\n",
            "Thread count was 22 (of 22 available processors)\n",
            "\n",
            "Solution count 1: 0 \n",
            "\n",
            "Optimal solution found (tolerance 1.00e-04)\n",
            "Best objective 0.000000000000e+00, best bound 0.000000000000e+00, gap 0.0000%\n"
          ]
        },
        {
          "data": {
            "text/plain": [
              "[(8, 22),\n",
              " (15, 18),\n",
              " (8, 15),\n",
              " (0, 15),\n",
              " (0, 23),\n",
              " (9, 22),\n",
              " (19, 18),\n",
              " (0, 0),\n",
              " (15, 0)]"
            ]
          },
          "execution_count": 4,
          "metadata": {},
          "output_type": "execute_result"
        }
      ],
      "source": [
        "# POSITION ENCODING\n",
        "\n",
        "import gurobipy as g  # import Gurobi module\n",
        "\n",
        "# model --------------------------------------------------\n",
        "m = g.Model()\n",
        "\n",
        "xs = m.addVars(A_x, A_y, n, vtype=g.GRB.BINARY)\n",
        "ys = m.addVars(A_x, A_y, n, vtype=g.GRB.BINARY)\n",
        "\n",
        "m.addConstr(A_sq == tiles_sq) # since this model tries to fill each tile, we need to check whether it is possible (tiles_sq >= A_sq) and also check that there is no overlap if each tile is filled (tiles_sq <= A_sq)\n",
        "\n",
        "m.addConstrs(xs.sum(\"*\", \"*\", i) == 1 for i in range(n)) # each bottom-left corner of some tile is placed somewhere\n",
        "m.addConstrs(xs.sum(x, y, \"*\") <= 1 for x in range(A_x) for y in range(A_y)) # each position has at most one bottom-left corner of some tile\n",
        "\n",
        "for x in range(A_x):\n",
        "    for y in range(A_y):\n",
        "        for i in range(n):\n",
        "            m.addConstr(ys[x, y, i] == sum(xs[x_start, y_start, i] for x_start in range(max(0, x - (a[i] - 1)), x + 1) for y_start in range(max(0, y - (a[i] - 1)), y + 1)))  # connectivness and completeteness of tile placement\n",
        "\n",
        "for x in range(A_x):\n",
        "    for y in range(A_y):\n",
        "        m.addConstr(ys.sum(x, y, \"*\") == 1) # each position is occupied by exactly one tile\n",
        "\n",
        "m.optimize()\n",
        "\n",
        "# solution -----------------------------------------------\n",
        "positions = [(0,0) for i in range(n)]\n",
        "for x in range(A_x):\n",
        "    for y in range(A_y):\n",
        "        for i in range(n):\n",
        "            if xs[x, y, i].X > .5:\n",
        "                assert positions[i] == (0, 0)\n",
        "                positions[i] = (x, y)\n",
        "positions"
      ]
    },
    {
      "cell_type": "markdown",
      "metadata": {
        "id": "xOFjwk28A-sq"
      },
      "source": [
        "## Visualisation\n",
        "\n"
      ]
    },
    {
      "cell_type": "code",
      "execution_count": 5,
      "metadata": {
        "colab": {
          "base_uri": "https://localhost:8080/",
          "height": 430
        },
        "id": "xax3CkazA-sq",
        "outputId": "642ed255-7471-4c24-c4e5-8a9b074a9d60",
        "scrolled": false
      },
      "outputs": [
        {
          "data": {
            "image/png": "[encoded data removed]",
            "text/plain": [
              "<Figure size 640x480 with 1 Axes>"
            ]
          },
          "metadata": {},
          "output_type": "display_data"
        }
      ],
      "source": [
        "import matplotlib.pyplot as plt\n",
        "from matplotlib.patches import Rectangle\n",
        "import matplotlib.cm as cm\n",
        "\n",
        "fig, ax = plt.subplots()\n",
        "\n",
        "# ax.set_xlim((0, Ax.x))  # Useful for optimization case\n",
        "# ax.set_ylim((0, Ay.x))\n",
        "ax.set_xlim((0, A_x))\n",
        "ax.set_ylim((0, A_y))\n",
        "ax.set_aspect(\"equal\")\n",
        "\n",
        "# positions in form of (x, y)\n",
        "for i in range(n):\n",
        "    ax.add_patch(Rectangle(positions[i], a[i], a[i], color=cm.rainbow((i + 0.5)/n)))\n",
        "\n",
        "plt.show()"
      ]
    }
  ],
  "metadata": {
    "colab": {
      "provenance": []
    },
    "kernelspec": {
      "display_name": "Python 3",
      "name": "python3"
    },
    "language_info": {
      "codemirror_mode": {
        "name": "ipython",
        "version": 3
      },
      "file_extension": ".py",
      "mimetype": "text/x-python",
      "name": "python",
      "nbconvert_exporter": "python",
      "pygments_lexer": "ipython3",
      "version": "3.12.9"
    }
  },
  "nbformat": 4,
  "nbformat_minor": 0
}
