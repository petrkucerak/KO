{
  "cells": [
    {
      "cell_type": "code",
      "execution_count": 5,
      "metadata": {
        "colab": {
          "base_uri": "https://localhost:8080/"
        },
        "id": "6m3k8mGWMUq-",
        "outputId": "b55da1a5-610b-49e4-cd89-4c891f68c779",
        "pycharm": {
          "is_executing": true
        }
      },
      "outputs": [
        {
          "name": "stdout",
          "output_type": "stream",
          "text": [
            "Defaulting to user installation because normal site-packages is not writeable\n",
            "Requirement already satisfied: gurobipy in c:\\users\\trpe\\appdata\\local\\packages\\pythonsoftwarefoundation.python.3.12_qbz5n2kfra8p0\\localcache\\local-packages\\python312\\site-packages (12.0.1)\n"
          ]
        },
        {
          "name": "stderr",
          "output_type": "stream",
          "text": [
            "\n",
            "[notice] A new release of pip is available: 24.3.1 -> 25.0.1\n",
            "[notice] To update, run: C:\\Users\\trpe\\AppData\\Local\\Microsoft\\WindowsApps\\PythonSoftwareFoundation.Python.3.12_qbz5n2kfra8p0\\python.exe -m pip install --upgrade pip\n"
          ]
        }
      ],
      "source": [
        "!pip install gurobipy\n",
        "import gurobipy as g"
      ]
    },
    {
      "cell_type": "markdown",
      "metadata": {
        "id": "HoaomivMMZn_"
      },
      "source": [
        "**Sanity check** whether we have installed Gurobi"
      ]
    },
    {
      "cell_type": "code",
      "execution_count": 6,
      "metadata": {
        "colab": {
          "base_uri": "https://localhost:8080/"
        },
        "id": "P1QPswNTMUrA",
        "outputId": "433dcb39-a59b-4d2e-af0a-6ee0ab982a75"
      },
      "outputs": [
        {
          "name": "stdout",
          "output_type": "stream",
          "text": [
            "Gurobi Optimizer version 12.0.1 build v12.0.1rc0 (win64 - Windows 11.0 (26100.2))\n",
            "\n",
            "CPU model: Intel(R) Core(TM) Ultra 9 185H, instruction set [SSE2|AVX|AVX2]\n",
            "Thread count: 16 physical cores, 22 logical processors, using up to 22 threads\n",
            "\n",
            "Optimize a model with 0 rows, 0 columns and 0 nonzeros\n",
            "Model fingerprint: 0xf9715da1\n",
            "Coefficient statistics:\n",
            "  Matrix range     [0e+00, 0e+00]\n",
            "  Objective range  [0e+00, 0e+00]\n",
            "  Bounds range     [0e+00, 0e+00]\n",
            "  RHS range        [0e+00, 0e+00]\n",
            "Presolve time: 0.00s\n",
            "Presolve: All rows and columns removed\n",
            "Iteration    Objective       Primal Inf.    Dual Inf.      Time\n",
            "       0    0.0000000e+00   0.000000e+00   0.000000e+00      0s\n",
            "\n",
            "Solved in 0 iterations and 0.00 seconds (0.00 work units)\n",
            "Optimal objective  0.000000000e+00\n"
          ]
        }
      ],
      "source": [
        "m = g.Model()\n",
        "m.optimize()"
      ]
    },
    {
      "cell_type": "markdown",
      "metadata": {
        "id": "blqLoIdcMliO"
      },
      "source": [
        "Basic example how to model linear programming problem. Problem contains two variables (we can easily make them integer by changing the appropiate vtype), three constraints and maximization objective."
      ]
    },
    {
      "cell_type": "code",
      "execution_count": 7,
      "metadata": {
        "colab": {
          "base_uri": "https://localhost:8080/"
        },
        "id": "pgZotJV4MUrB",
        "outputId": "54477f5a-b5d9-4d58-cd0f-1d82e1fde217"
      },
      "outputs": [
        {
          "name": "stdout",
          "output_type": "stream",
          "text": [
            "Gurobi Optimizer version 12.0.1 build v12.0.1rc0 (win64 - Windows 11.0 (26100.2))\n",
            "\n",
            "CPU model: Intel(R) Core(TM) Ultra 9 185H, instruction set [SSE2|AVX|AVX2]\n",
            "Thread count: 16 physical cores, 22 logical processors, using up to 22 threads\n",
            "\n",
            "Optimize a model with 2 rows, 2 columns and 4 nonzeros\n",
            "Model fingerprint: 0xe44d31a6\n",
            "Coefficient statistics:\n",
            "  Matrix range     [3e+00, 5e+00]\n",
            "  Objective range  [3e+01, 3e+01]\n",
            "  Bounds range     [0e+00, 0e+00]\n",
            "  RHS range        [5e+01, 6e+01]\n",
            "Presolve time: 0.01s\n",
            "Presolved: 2 rows, 2 columns, 4 nonzeros\n",
            "\n",
            "Iteration    Objective       Primal Inf.    Dual Inf.      Time\n",
            "       0    5.7000000e+31   2.875000e+30   5.700000e+01      0s\n",
            "       2    3.7400000e+02   0.000000e+00   0.000000e+00      0s\n",
            "\n",
            "Solved in 2 iterations and 0.01 seconds (0.00 work units)\n",
            "Optimal objective  3.740000000e+02\n",
            "Optimal objective: 374.0\n",
            "x: 7.0 y: 6.0\n",
            "Solutions 1\n"
          ]
        }
      ],
      "source": [
        "import gurobipy as g\n",
        "\n",
        "# Create empty optimization model.\n",
        "# In Python, only one environment exists and it is created internally\n",
        "# in the Model() constructor.\n",
        "m = g.Model()\n",
        "\n",
        "# Create variables x, y.\n",
        "x = m.addVar(lb=0, ub=g.GRB.INFINITY, vtype=g.GRB.CONTINUOUS, name=\"x\")\n",
        "y = m.addVar(lb=0, ub=g.GRB.INFINITY, vtype=g.GRB.CONTINUOUS, name=\"y\")\n",
        "\n",
        "# Set objective: maximize 32x + 25y\n",
        "m.setObjective(32*x + 25*y, sense=g.GRB.MAXIMIZE)\n",
        "\n",
        "# Add constraint: 5x + 4y <= 59\n",
        "m.addConstr(5*x + 4*y <= 59, \"cons1\")\n",
        "\n",
        "# Add constraint: 4x + 3y <= 46\n",
        "m.addConstr(4*x + 3*y <= 46, \"cons2\")\n",
        "\n",
        "# Solve the model.\n",
        "m.optimize()\n",
        "\n",
        "# Number of solutions found by the solver\n",
        "sol_count = m.getAttr(\"SolCount\")\n",
        "\n",
        "\n",
        "# Print the objective and the values of the decision variables in the solution.\n",
        "print(\"Optimal objective:\", m.objVal)\n",
        "print(\"x:\", x.x, \"y:\", y.x)\n",
        "print(\"Solutions\", sol_count)"
      ]
    },
    {
      "cell_type": "markdown",
      "metadata": {
        "id": "0eoSM-M0NXM9"
      },
      "source": [
        "**Diet problem example**\n",
        "\n",
        "The cook needs to prepare a lunch for pupils. Each lunch needs to contain the minimum amount of each of the nutrient groups, but we also want to produce as cheap lunch as possible.\n",
        "\n",
        "Nutrients per food type unit:\n",
        "* potatoes - 2 units of sugars, 2 units of protein, 1 unit of vitamins\n",
        "* meat - 1 unit of sugars, 6 units of protein, 3 units of vitamins\n",
        "* vegetables - 1 unit of sugars, 1 unit of protein, 6 units of vitamins\n",
        "\n",
        "Each meal must contain at least 8 units of sugar, 16 units of protein and 8 units of vitamins. Potatoes cost 25 crowns per unit, meat 50 crowns, vegetables 80 crowns."
      ]
    },
    {
      "cell_type": "code",
      "execution_count": 8,
      "metadata": {
        "colab": {
          "base_uri": "https://localhost:8080/"
        },
        "id": "wKmTdJU5MUrC",
        "outputId": "bbbe740e-572a-4ed3-96c8-223aef3c9378"
      },
      "outputs": [
        {
          "name": "stdout",
          "output_type": "stream",
          "text": [
            "Gurobi Optimizer version 12.0.1 build v12.0.1rc0 (win64 - Windows 11.0 (26100.2))\n",
            "\n",
            "CPU model: Intel(R) Core(TM) Ultra 9 185H, instruction set [SSE2|AVX|AVX2]\n",
            "Thread count: 16 physical cores, 22 logical processors, using up to 22 threads\n",
            "\n",
            "Optimize a model with 3 rows, 3 columns and 9 nonzeros\n",
            "Model fingerprint: 0x503da7d6\n",
            "Coefficient statistics:\n",
            "  Matrix range     [1e+00, 6e+00]\n",
            "  Objective range  [3e+01, 8e+01]\n",
            "  Bounds range     [0e+00, 0e+00]\n",
            "  RHS range        [7e+00, 2e+01]\n",
            "Presolve time: 0.01s\n",
            "Presolved: 3 rows, 3 columns, 9 nonzeros\n",
            "\n",
            "Iteration    Objective       Primal Inf.    Dual Inf.      Time\n",
            "       0    0.0000000e+00   6.875000e+00   0.000000e+00      0s\n",
            "       2    1.6000000e+02   0.000000e+00   0.000000e+00      0s\n",
            "\n",
            "Solved in 2 iterations and 0.01 seconds (0.00 work units)\n",
            "Optimal objective  1.600000000e+02\n",
            "cost  160.0\n",
            "potatoes  3.2\n",
            "meat  1.5999999999999999\n",
            "vegetable  0.0\n"
          ]
        }
      ],
      "source": [
        "import gurobipy as g\n",
        "\n",
        "m = g.Model()\n",
        "\n",
        "# variables\n",
        "potato = m.addVar(lb=0, vtype=g.GRB.CONTINUOUS, name=\"p\")\n",
        "meat = m.addVar(lb=0, vtype=g.GRB.CONTINUOUS, name=\"m\")\n",
        "vegetable = m.addVar(lb=0, vtype=g.GRB.CONTINUOUS, name=\"v\")\n",
        "\n",
        "# sugar constraint\n",
        "m.addConstr(2 * potato + 1 * meat + 1 * vegetable >= 8)\n",
        "\n",
        "# protein constraint\n",
        "m.addConstr(2 * potato + 6 * meat + 1 * vegetable >= 16)\n",
        "\n",
        "# vitamin constraint\n",
        "m.addConstr(1 + potato + 3 * meat + 6 * vegetable >= 8)\n",
        "\n",
        "# criterion\n",
        "m.setObjective(25 * potato + 50 * meat + 80 * vegetable, sense=g.GRB.MINIMIZE)\n",
        "\n",
        "m.optimize()\n",
        "print(\"cost \", m.objVal)\n",
        "print(\"potatoes \", potato.x)\n",
        "print(\"meat \", meat.x)\n",
        "print(\"vegetable \", vegetable.x)"
      ]
    },
    {
      "cell_type": "markdown",
      "metadata": {
        "id": "RJBpVnHz3u9r"
      },
      "source": [
        "Alternative model for diet problem using addMVar (matrix input):"
      ]
    },
    {
      "cell_type": "code",
      "execution_count": 11,
      "metadata": {
        "colab": {
          "base_uri": "https://localhost:8080/"
        },
        "id": "WToexctU31ls",
        "outputId": "4bac8419-ebec-4164-bb11-63862d50bbe3"
      },
      "outputs": [
        {
          "name": "stdout",
          "output_type": "stream",
          "text": [
            "Gurobi Optimizer version 12.0.1 build v12.0.1rc0 (win64 - Windows 11.0 (26100.2))\n",
            "\n",
            "CPU model: Intel(R) Core(TM) Ultra 9 185H, instruction set [SSE2|AVX|AVX2]\n",
            "Thread count: 16 physical cores, 22 logical processors, using up to 22 threads\n",
            "\n",
            "Optimize a model with 3 rows, 3 columns and 9 nonzeros\n",
            "Model fingerprint: 0x896fb4d8\n",
            "Coefficient statistics:\n",
            "  Matrix range     [1e+00, 6e+00]\n",
            "  Objective range  [3e+01, 8e+01]\n",
            "  Bounds range     [0e+00, 0e+00]\n",
            "  RHS range        [8e+00, 2e+01]\n",
            "Presolve time: 0.00s\n",
            "Presolved: 3 rows, 3 columns, 9 nonzeros\n",
            "\n",
            "Iteration    Objective       Primal Inf.    Dual Inf.      Time\n",
            "       0    0.0000000e+00   7.000000e+00   0.000000e+00      0s\n",
            "       2    1.6000000e+02   0.000000e+00   0.000000e+00      0s\n",
            "\n",
            "Solved in 2 iterations and 0.01 seconds (0.00 work units)\n",
            "Optimal objective  1.600000000e+02\n",
            "results: [3.2 1.6 0. ]\n"
          ]
        }
      ],
      "source": [
        "import numpy as np\n",
        "m = g.Model()\n",
        "\n",
        "x = m.addMVar(3, vtype=g.GRB.CONTINUOUS)\n",
        "c = np.array([25, 50, 80])\n",
        "A = np.array([[2, 1, 1], [2, 6, 1], [1, 3, 6]])\n",
        "b = np.array([8, 16, 8])\n",
        "\n",
        "m.addConstr(A@x >= b)\n",
        "m.setObjective(c@x)\n",
        "\n",
        "m.optimize()\n",
        "\n",
        "print(\"results:\", x.x)"
      ]
    },
    {
      "cell_type": "markdown",
      "metadata": {
        "id": "mhvXvmrasgzd"
      },
      "source": [
        "Plot graph of vegetables required as a function of minimum vitamins constraint."
      ]
    },
    {
      "cell_type": "code",
      "execution_count": 13,
      "metadata": {
        "colab": {
          "base_uri": "https://localhost:8080/",
          "height": 467
        },
        "id": "5MPmd9rOspYS",
        "outputId": "a67d3040-4a8f-4b90-f718-3944af79babf"
      },
      "outputs": [
        {
          "data": {
            "text/plain": [
              "Text(0, 0.5, 'vegetables needed [-]')"
            ]
          },
          "execution_count": 13,
          "metadata": {},
          "output_type": "execute_result"
        },
        {
          "data": {
            "image/png": "[encoded data removed]",
            "text/plain": [
              "<Figure size 640x480 with 1 Axes>"
            ]
          },
          "metadata": {},
          "output_type": "display_data"
        }
      ],
      "source": [
        "import matplotlib.pyplot as plt\n",
        "import numpy as np\n",
        "\n",
        "\n",
        "def compute_diet(vitamins_required=8):\n",
        "  m = g.Model()\n",
        "  m.params.OutputFlag = 0   # supressing Gurobi solver output to console\n",
        "\n",
        "  x = m.addMVar(3, vtype=g.GRB.CONTINUOUS)\n",
        "  c = np.array([25, 50, 80])\n",
        "  A = np.array([[2, 1, 1], [2, 6, 1], [1, 3, 6]])\n",
        "  b = np.array([8, 16, vitamins_required])\n",
        "\n",
        "  m.addConstr(A@x >= b)\n",
        "  m.setObjective(c@x)\n",
        "\n",
        "  m.optimize()\n",
        "  return x[2].x\n",
        "\n",
        "vitamins = np.linspace(0, 13, 50)\n",
        "vegetables_needed = list(map(compute_diet, vitamins))\n",
        "plt.plot(vitamins, vegetables_needed)\n",
        "plt.xlabel('vitamins required [-]')\n",
        "plt.ylabel('vegetables needed [-]')"
      ]
    },
    {
      "cell_type": "code",
      "execution_count": null,
      "metadata": {
        "id": "o-yAT2w7MUrF"
      },
      "outputs": [],
      "source": []
    }
  ],
  "metadata": {
    "colab": {
      "provenance": []
    },
    "kernelspec": {
      "display_name": "Python 3",
      "language": "python",
      "name": "python3"
    },
    "language_info": {
      "codemirror_mode": {
        "name": "ipython",
        "version": 3
      },
      "file_extension": ".py",
      "mimetype": "text/x-python",
      "name": "python",
      "nbconvert_exporter": "python",
      "pygments_lexer": "ipython3",
      "version": "3.12.9"
    }
  },
  "nbformat": 4,
  "nbformat_minor": 0
}
