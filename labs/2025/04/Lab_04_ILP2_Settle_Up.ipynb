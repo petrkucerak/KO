{
  "cells": [
    {
      "cell_type": "markdown",
      "metadata": {
        "id": "nR2JVnwRue3e"
      },
      "source": [
        "# Settle Up Problem (Dlužníček)\n",
        "\n",
        "_Combinatorial Optimization course, FEE CTU in Prague. Created by [Industrial Informatics Department](http://industrialinformatics.fel.cvut.cz)._\n",
        "\n",
        "## Motivation\n",
        "\n",
        "You went on a trip with a group of your friends. All of you shared some expenses, and now it is the time to settle all the debts. It is clear that everyone should pay the same amount; however, people are lazy, and so you want to find the solution which minimizes the number of transactions.\n",
        "\n",
        "## Input\n",
        "\n",
        "You are given the following:\n",
        "\n",
        "* A set of people $P$\n",
        "* For every person $i \\in P$ the cost $c_i$ (i.e., amount of money that $i$ payed)\n",
        "\n",
        "For the experiments, you may use the following instance:"
      ]
    },
    {
      "cell_type": "code",
      "execution_count": 5,
      "metadata": {
        "colab": {
          "base_uri": "https://localhost:8080/"
        },
        "id": "JajM-YdBue3g",
        "outputId": "c8378138-4737-43ab-9374-8381cdf36570"
      },
      "outputs": [
        {
          "name": "stdout",
          "output_type": "stream",
          "text": [
            "Defaulting to user installation because normal site-packages is not writeable\n",
            "Requirement already satisfied: gurobipy in c:\\users\\trpe\\appdata\\local\\packages\\pythonsoftwarefoundation.python.3.12_qbz5n2kfra8p0\\localcache\\local-packages\\python312\\site-packages (12.0.1)\n"
          ]
        }
      ],
      "source": [
        "!pip install gurobipy\n",
        "P = set([\"A\", \"B\", \"C\", \"D\"])\n",
        "c = {\"A\": 0, \"B\": 590, \"C\": 110, \"D\": 300}  # c_i is accessed by calling c[i]\n",
        "sv = sum(c.values())/len(c)  # the settlement value"
      ]
    },
    {
      "cell_type": "markdown",
      "metadata": {
        "id": "XWueSHMcue3h"
      },
      "source": [
        "Number $sv$ (the settlement value) is the fair price that every person should pay."
      ]
    },
    {
      "cell_type": "markdown",
      "metadata": {
        "id": "fnS0DhFdue3h"
      },
      "source": [
        "## Output\n",
        "\n",
        "You should find a list of tuples $(x, y, z)$ representing the transactions: person $x$ should pay person $y$ amount of $z$ euros. The number of transactions (i.e., the length of the list) should be minimized.\n",
        "\n",
        "For the given instance, the **optimal solution** consists of 3 transactions, namely\n",
        "\n",
        "```\n",
        "A -> B: 250.0\n",
        "C -> D: 50.0\n",
        "C -> B: 90.0\n",
        "```"
      ]
    },
    {
      "cell_type": "markdown",
      "metadata": {
        "id": "H_Xjp1I9ue3h"
      },
      "source": [
        "## Exercise\n",
        "\n",
        "Implement the ILP model of the problem. You can assume that the settlement value is int (or was rounded)."
      ]
    },
    {
      "cell_type": "code",
      "execution_count": null,
      "metadata": {
        "id": "bo4bWBO6ue3i"
      },
      "outputs": [
        {
          "ename": "KeyError",
          "evalue": "0",
          "output_type": "error",
          "traceback": [
            "\u001b[1;31m---------------------------------------------------------------------------\u001b[0m",
            "\u001b[1;31mKeyError\u001b[0m                                  Traceback (most recent call last)",
            "Cell \u001b[1;32mIn[9], line 17\u001b[0m\n\u001b[0;32m     14\u001b[0m \u001b[38;5;66;03m# - ADD CONSTRAINTS\u001b[39;00m\n\u001b[0;32m     15\u001b[0m \u001b[38;5;28;01mfor\u001b[39;00m person_id \u001b[38;5;129;01min\u001b[39;00m \u001b[38;5;28mrange\u001b[39m(\u001b[38;5;28mlen\u001b[39m(c)):\n\u001b[0;32m     16\u001b[0m     m\u001b[38;5;241m.\u001b[39maddConstr(t_a\u001b[38;5;241m.\u001b[39msum(person_id, \u001b[38;5;124m\"\u001b[39m\u001b[38;5;124m*\u001b[39m\u001b[38;5;124m\"\u001b[39m) \u001b[38;5;241m-\u001b[39m\n\u001b[1;32m---> 17\u001b[0m                 t_a\u001b[38;5;241m.\u001b[39msum(\u001b[38;5;124m\"\u001b[39m\u001b[38;5;124m*\u001b[39m\u001b[38;5;124m\"\u001b[39m, person_id) \u001b[38;5;241m+\u001b[39m \u001b[43mc\u001b[49m\u001b[43m[\u001b[49m\u001b[43mperson_id\u001b[49m\u001b[43m]\u001b[49m \u001b[38;5;241m==\u001b[39m sv)\n\u001b[0;32m     19\u001b[0m \u001b[38;5;28;01mfor\u001b[39;00m i \u001b[38;5;129;01min\u001b[39;00m \u001b[38;5;28mrange\u001b[39m(\u001b[38;5;28mlen\u001b[39m(c)):\n\u001b[0;32m     20\u001b[0m         \u001b[38;5;28;01mfor\u001b[39;00m j \u001b[38;5;129;01min\u001b[39;00m \u001b[38;5;28mrange\u001b[39m(\u001b[38;5;28mlen\u001b[39m(c)):\n",
            "\u001b[1;31mKeyError\u001b[0m: 0"
          ]
        }
      ],
      "source": [
        "import gurobipy as g  # import Gurobi module\n",
        "\n",
        "# model --------------------------------------------------\n",
        "m = g.Model()\n",
        "\n",
        "# - ADD VARIABLES\n",
        "t_a = m.addVars(len(c), len(c), vtype=g.GRB.INTEGER, lb=0)  # velikost transackce\n",
        "t_s = m.addVars(len(c), len(c), vtype=g.GRB.BINARY, lb=0)  # probla transakce\n",
        "\n",
        "M = c.sum()\n",
        "\n",
        "# - ADD CONSTRAINTS\n",
        "for person_id in range(len(c)):\n",
        "    m.addConstr(t_a.sum(person_id, \"*\") -\n",
        "                t_a.sum(\"*\", person_id) + c[person_id] == sv)\n",
        "\n",
        "for i in range(len(c)):\n",
        "   for j in range(len(c)):\n",
        "      m.addConstr(t_a[i][j] <= M * t_s[i][j])\n",
        "\n",
        "\n",
        "# - SET OBJECTIVE\n",
        "# chceme minimalizovat pocet transakci\n",
        "m.setObjective(t_s.sum())\n",
        "\n",
        "# call the solver -------------------------------------------\n",
        "m.optimize()\n",
        "\n",
        "# print the solution -----------------------------------------\n",
        "print('\\nSOLUTION:')\n",
        "print([t_a[i,j].x for i in range(len(c)) for j in range(len(c))])"
      ]
    }
  ],
  "metadata": {
    "colab": {
      "provenance": []
    },
    "kernelspec": {
      "display_name": "Python 3",
      "language": "python",
      "name": "python3"
    },
    "language_info": {
      "codemirror_mode": {
        "name": "ipython",
        "version": 3
      },
      "file_extension": ".py",
      "mimetype": "text/x-python",
      "name": "python",
      "nbconvert_exporter": "python",
      "pygments_lexer": "ipython3",
      "version": "3.12.9"
    }
  },
  "nbformat": 4,
  "nbformat_minor": 0
}
