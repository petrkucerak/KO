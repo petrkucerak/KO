{
  "cells": [
    {
      "cell_type": "markdown",
      "metadata": {
        "id": "nR2JVnwRue3e"
      },
      "source": [
        "# Settle Up Problem (Dlužníček)\n",
        "\n",
        "_Combinatorial Optimization course, FEE CTU in Prague. Created by [Industrial Informatics Department](http://industrialinformatics.fel.cvut.cz)._\n",
        "\n",
        "## Motivation\n",
        "\n",
        "You went on a trip with a group of your friends. All of you shared some expenses, and now it is the time to settle all the debts. It is clear that everyone should pay the same amount; however, people are lazy, and so you want to find the solution which minimizes the number of transactions.\n",
        "\n",
        "## Input\n",
        "\n",
        "You are given the following:\n",
        "\n",
        "* A set of people $P$\n",
        "* For every person $i \\in P$ the cost $c_i$ (i.e., amount of money that $i$ payed)\n",
        "\n",
        "For the experiments, you may use the following instance:"
      ]
    },
    {
      "cell_type": "code",
      "execution_count": null,
      "metadata": {
        "id": "JajM-YdBue3g",
        "colab": {
          "base_uri": "https://localhost:8080/"
        },
        "outputId": "c8378138-4737-43ab-9374-8381cdf36570"
      },
      "outputs": [
        {
          "output_type": "stream",
          "name": "stdout",
          "text": [
            "Collecting gurobipy\n",
            "  Downloading gurobipy-12.0.1-cp311-cp311-manylinux2014_x86_64.manylinux_2_17_x86_64.whl.metadata (16 kB)\n",
            "Downloading gurobipy-12.0.1-cp311-cp311-manylinux2014_x86_64.manylinux_2_17_x86_64.whl (14.4 MB)\n",
            "\u001b[2K   \u001b[90m━━━━━━━━━━━━━━━━━━━━━━━━━━━━━━━━━━━━━━━━\u001b[0m \u001b[32m14.4/14.4 MB\u001b[0m \u001b[31m21.9 MB/s\u001b[0m eta \u001b[36m0:00:00\u001b[0m\n",
            "\u001b[?25hInstalling collected packages: gurobipy\n",
            "Successfully installed gurobipy-12.0.1\n"
          ]
        }
      ],
      "source": [
        "!pip install gurobipy\n",
        "P = set([\"A\", \"B\", \"C\", \"D\"])\n",
        "c = {\"A\": 0, \"B\": 590, \"C\": 110, \"D\": 300}  # c_i is accessed by calling c[i]\n",
        "sv = sum(c.values())/len(c)  # the settlement value"
      ]
    },
    {
      "cell_type": "markdown",
      "metadata": {
        "id": "XWueSHMcue3h"
      },
      "source": [
        "Number $sv$ (the settlement value) is the fair price that every person should pay."
      ]
    },
    {
      "cell_type": "markdown",
      "metadata": {
        "id": "fnS0DhFdue3h"
      },
      "source": [
        "## Output\n",
        "\n",
        "You should find a list of tuples $(x, y, z)$ representing the transactions: person $x$ should pay person $y$ amount of $z$ euros. The number of transactions (i.e., the length of the list) should be minimized.\n",
        "\n",
        "For the given instance, the **optimal solution** consists of 3 transactions, namely\n",
        "\n",
        "```\n",
        "A -> B: 250.0\n",
        "C -> D: 50.0\n",
        "C -> B: 90.0\n",
        "```"
      ]
    },
    {
      "cell_type": "markdown",
      "metadata": {
        "id": "H_Xjp1I9ue3h"
      },
      "source": [
        "## Exercise\n",
        "\n",
        "Implement the ILP model of the problem. You can assume that the settlement value is int (or was rounded)."
      ]
    },
    {
      "cell_type": "code",
      "execution_count": null,
      "metadata": {
        "id": "bo4bWBO6ue3i"
      },
      "outputs": [],
      "source": [
        "import gurobipy as g  # import Gurobi module\n",
        "\n",
        "# model --------------------------------------------------\n",
        "m = g.Model()\n",
        "\n",
        "# - ADD VARIABLES\n",
        "\n",
        "# - ADD CONSTRAINTS\n",
        "\n",
        "# - SET OBJECTIVE\n",
        "\n",
        "# call the solver -------------------------------------------\n",
        "m.optimize()\n",
        "\n",
        "# print the solution -----------------------------------------\n",
        "print('\\nSOLUTION:')\n",
        "print()"
      ]
    }
  ],
  "metadata": {
    "kernelspec": {
      "display_name": "Python 3",
      "language": "python",
      "name": "python3"
    },
    "language_info": {
      "codemirror_mode": {
        "name": "ipython",
        "version": 3
      },
      "file_extension": ".py",
      "mimetype": "text/x-python",
      "name": "python",
      "nbconvert_exporter": "python",
      "pygments_lexer": "ipython3",
      "version": "3.8.10"
    },
    "colab": {
      "provenance": []
    }
  },
  "nbformat": 4,
  "nbformat_minor": 0
}