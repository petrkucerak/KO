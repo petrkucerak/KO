{
  "cells": [
    {
      "cell_type": "markdown",
      "metadata": {
        "id": "nR2JVnwRue3e"
      },
      "source": [
        "# Settle Up Problem (Dlužníček)\n",
        "\n",
        "_Combinatorial Optimization course, FEE CTU in Prague. Created by [Industrial Informatics Department](http://industrialinformatics.fel.cvut.cz)._\n",
        "\n",
        "## Motivation\n",
        "\n",
        "You went on a trip with a group of your friends. All of you shared some expenses, and now it is the time to settle all the debts. It is clear that everyone should pay the same amount; however, people are lazy, and so you want to find the solution which minimizes the number of transactions.\n",
        "\n",
        "## Input\n",
        "\n",
        "You are given the following:\n",
        "\n",
        "* A set of people $P$\n",
        "* For every person $i \\in P$ the cost $c_i$ (i.e., amount of money that $i$ payed)\n",
        "\n",
        "For the experiments, you may use the following instance:"
      ]
    },
    {
      "cell_type": "code",
      "execution_count": 5,
      "metadata": {
        "colab": {
          "base_uri": "https://localhost:8080/"
        },
        "id": "JajM-YdBue3g",
        "outputId": "c8378138-4737-43ab-9374-8381cdf36570"
      },
      "outputs": [
        {
          "name": "stdout",
          "output_type": "stream",
          "text": [
            "Defaulting to user installation because normal site-packages is not writeable\n",
            "Requirement already satisfied: gurobipy in c:\\users\\trpe\\appdata\\local\\packages\\pythonsoftwarefoundation.python.3.12_qbz5n2kfra8p0\\localcache\\local-packages\\python312\\site-packages (12.0.1)\n"
          ]
        }
      ],
      "source": [
        "!pip install gurobipy\n",
        "P = set([\"A\", \"B\", \"C\", \"D\"])\n",
        "c = {\"A\": 0, \"B\": 590, \"C\": 110, \"D\": 300}  # c_i is accessed by calling c[i]\n",
        "sv = sum(c.values())/len(c)  # the settlement value"
      ]
    },
    {
      "cell_type": "markdown",
      "metadata": {
        "id": "XWueSHMcue3h"
      },
      "source": [
        "Number $sv$ (the settlement value) is the fair price that every person should pay."
      ]
    },
    {
      "cell_type": "markdown",
      "metadata": {
        "id": "fnS0DhFdue3h"
      },
      "source": [
        "## Output\n",
        "\n",
        "You should find a list of tuples $(x, y, z)$ representing the transactions: person $x$ should pay person $y$ amount of $z$ euros. The number of transactions (i.e., the length of the list) should be minimized.\n",
        "\n",
        "For the given instance, the **optimal solution** consists of 3 transactions, namely\n",
        "\n",
        "```\n",
        "A -> B: 250.0\n",
        "C -> D: 50.0\n",
        "C -> B: 90.0\n",
        "```"
      ]
    },
    {
      "cell_type": "markdown",
      "metadata": {
        "id": "H_Xjp1I9ue3h"
      },
      "source": [
        "## Exercise\n",
        "\n",
        "Implement the ILP model of the problem. You can assume that the settlement value is int (or was rounded)."
      ]
    },
    {
      "cell_type": "code",
      "execution_count": 11,
      "metadata": {
        "id": "bo4bWBO6ue3i"
      },
      "outputs": [
        {
          "name": "stdout",
          "output_type": "stream",
          "text": [
            "{'A': 0, 'B': 590, 'C': 110, 'D': 300}\n",
            "Gurobi Optimizer version 12.0.1 build v12.0.1rc0 (win64 - Windows 11.0 (26100.2))\n",
            "\n",
            "CPU model: Intel(R) Core(TM) Ultra 9 185H, instruction set [SSE2|AVX|AVX2]\n",
            "Thread count: 16 physical cores, 22 logical processors, using up to 22 threads\n",
            "\n",
            "Optimize a model with 20 rows, 32 columns and 56 nonzeros\n",
            "Model fingerprint: 0x58fc8560\n",
            "Variable types: 0 continuous, 32 integer (16 binary)\n",
            "Coefficient statistics:\n",
            "  Matrix range     [1e+00, 1e+03]\n",
            "  Objective range  [1e+00, 1e+00]\n",
            "  Bounds range     [1e+00, 1e+00]\n",
            "  RHS range        [5e+01, 3e+02]\n",
            "Found heuristic solution: objective 3.0000000\n",
            "Presolve removed 4 rows and 8 columns\n",
            "Presolve time: 0.01s\n",
            "Presolved: 16 rows, 24 columns, 48 nonzeros\n",
            "Variable types: 0 continuous, 24 integer (12 binary)\n",
            "\n",
            "Root relaxation: objective 3.900000e-01, 12 iterations, 0.00 seconds (0.00 work units)\n",
            "\n",
            "    Nodes    |    Current Node    |     Objective Bounds      |     Work\n",
            " Expl Unexpl |  Obj  Depth IntInf | Incumbent    BestBd   Gap | It/Node Time\n",
            "\n",
            "     0     0    0.39000    0    3    3.00000    0.39000  87.0%     -    0s\n",
            "     0     0     cutoff    0         3.00000    3.00000  0.00%     -    0s\n",
            "\n",
            "Cutting planes:\n",
            "  Gomory: 1\n",
            "  MIR: 4\n",
            "  Flow cover: 8\n",
            "  Network: 1\n",
            "\n",
            "Explored 1 nodes (20 simplex iterations) in 0.02 seconds (0.00 work units)\n",
            "Thread count was 22 (of 22 available processors)\n",
            "\n",
            "Solution count 1: 3 \n",
            "\n",
            "Optimal solution found (tolerance 1.00e-04)\n",
            "Best objective 3.000000000000e+00, best bound 3.000000000000e+00, gap 0.0000%\n",
            "\n",
            "SOLUTION:\n",
            "[-0.0, 0.0, 0.0, 250.0, 0.0, -0.0, 0.0, 0.0, 0.0, 340.0, -0.0, 0.0, 0.0, 0.0, 200.0, -0.0]\n"
          ]
        }
      ],
      "source": [
        "import gurobipy as g  # import Gurobi module\n",
        "\n",
        "P = set([\"A\", \"B\", \"C\", \"D\"])\n",
        "c = {\"A\": 0, \"B\": 590, \"C\": 110, \"D\": 300}  # c_i is accessed by calling c[i]\n",
        "sv = sum(c.values()) / len(c)  # the settlement value\n",
        "\n",
        "# model --------------------------------------------------\n",
        "m = g.Model()\n",
        "\n",
        "print(c)\n",
        "\n",
        "# - ADD VARIABLES\n",
        "t_a = m.addVars(len(c), len(c), vtype=g.GRB.INTEGER, lb=0)  # velikost transakce\n",
        "t_s = m.addVars(len(c), len(c), vtype=g.GRB.BINARY, lb=0)  # probla transakce\n",
        "\n",
        "M = sum(c.values())  # Fix: Correct summation of dictionary values\n",
        "\n",
        "# - ADD CONSTRAINTS\n",
        "for person_id in range(len(c)):\n",
        "    key = list(c.keys())[person_id]  # Fix: Correct indexing\n",
        "    m.addConstr(t_a.sum(person_id, \"*\") - t_a.sum(\"*\", person_id) + c[key] == sv)\n",
        "\n",
        "for i in range(len(c)):\n",
        "    for j in range(len(c)):\n",
        "        m.addConstr(t_a[i, j] <= M * t_s[i, j])  # Fix: Correct dictionary-like access\n",
        "\n",
        "# - SET OBJECTIVE\n",
        "# chceme minimalizovat pocet transakci\n",
        "m.setObjective(t_s.sum())\n",
        "\n",
        "# call the solver -------------------------------------------\n",
        "m.optimize()\n",
        "\n",
        "# print the solution -----------------------------------------\n",
        "print('\\nSOLUTION:')\n",
        "print([t_a[i, j].x for i in range(len(c)) for j in range(len(c))])\n"
      ]
    }
  ],
  "metadata": {
    "colab": {
      "provenance": []
    },
    "kernelspec": {
      "display_name": "Python 3",
      "language": "python",
      "name": "python3"
    },
    "language_info": {
      "codemirror_mode": {
        "name": "ipython",
        "version": 3
      },
      "file_extension": ".py",
      "mimetype": "text/x-python",
      "name": "python",
      "nbconvert_exporter": "python",
      "pygments_lexer": "ipython3",
      "version": "3.12.9"
    }
  },
  "nbformat": 4,
  "nbformat_minor": 0
}
