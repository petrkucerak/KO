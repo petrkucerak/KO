{
  "cells": [
    {
      "cell_type": "markdown",
      "metadata": {
        "id": "M9U6I1jTA-sh"
      },
      "source": [
        "# Tiling the bathroom\n",
        "\n",
        "_Combinatorial Optimization course, FEE CTU in Prague. Created by [Industrial Informatics Department](http://industrialinformatics.fel.cvut.cz)._\n",
        "\n",
        "## Motivation\n",
        "\n",
        "You accidentally dropped a bowling ball in your bathroom, which cracked a significant part of the floor. You successfully removed the debris, but now you must fill the resulting rectangular hole with new tiles. However, the tiles are pretty costly, so you asked the neighbors whether they have any spares. Finally, you acquired several different rectangular tiles whose area is equal to the area of the hole. Are you able to repair the floor?\n",
        "\n",
        "## Input\n",
        "\n",
        "You are given the following:\n",
        "\n",
        "* Rectangle hole in your bathroom of dimensions $A_x,A_y$\n",
        "* $n$ different square tiles described by their size $a_i$\n",
        "\n",
        "For the experiments, you may use the following instance:"
      ]
    },
    {
      "cell_type": "code",
      "execution_count": null,
      "metadata": {
        "id": "MMnkjagoA-sl"
      },
      "outputs": [],
      "source": [
        "!pip install gurobipy\n",
        "A_x, A_y = 33, 32\n",
        "a = [1, 4, 7, 8, 9, 10, 14, 15, 18]\n",
        "n = len(a)\n",
        "\n",
        "A_sq = A_x * A_y\n",
        "tiles_sq = sum(a[i] * a[i] for i in range(n))\n",
        "A_sq, tiles_sq"
      ]
    },
    {
      "cell_type": "markdown",
      "metadata": {
        "id": "LEedBhDvA-sn"
      },
      "source": [
        "## Output\n",
        "\n",
        "You should find a positions of the bottom-left corners of the tiles so you fill the entire hole in your bathroom."
      ]
    },
    {
      "cell_type": "markdown",
      "metadata": {
        "id": "Uo9Pzk5FA-so"
      },
      "source": [
        "## Exercise\n",
        "\n",
        "Implement the ILP model of the problem."
      ]
    },
    {
      "cell_type": "code",
      "execution_count": null,
      "metadata": {
        "id": "2OHUCEc8A-sp"
      },
      "outputs": [],
      "source": [
        "import gurobipy as g  # import Gurobi module\n",
        "from itertools import combinations\n",
        "\n",
        "\n",
        "# model --------------------------------------------------\n",
        "\n",
        "# solution -----------------------------------------------\n",
        "positions = [(0,0) for i in range(n)]\n",
        "for i in range(n):\n",
        "    positions[i] = (round(xs[i].x), round(ys[i].x))"
      ]
    },
    {
      "cell_type": "markdown",
      "metadata": {
        "id": "xOFjwk28A-sq"
      },
      "source": [
        "## Visualisation\n",
        "\n"
      ]
    },
    {
      "cell_type": "code",
      "execution_count": null,
      "metadata": {
        "scrolled": false,
        "id": "xax3CkazA-sq"
      },
      "outputs": [],
      "source": [
        "import matplotlib.pyplot as plt\n",
        "from matplotlib.patches import Rectangle\n",
        "import matplotlib.cm as cm\n",
        "\n",
        "fig, ax = plt.subplots()\n",
        "\n",
        "# ax.set_xlim((0, Ax.x))  # Useful for optimization case\n",
        "# ax.set_ylim((0, Ay.x))\n",
        "ax.set_xlim((0, A_x))\n",
        "ax.set_ylim((0, A_y))\n",
        "ax.set_aspect(\"equal\")\n",
        "\n",
        "# positions in form of (x, y)\n",
        "for i in range(n):\n",
        "    ax.add_patch(Rectangle(positions[i], a[i], a[i], color=cm.rainbow((i + 0.5)/n)))\n",
        "\n",
        "plt.show()"
      ]
    },
    {
      "cell_type": "code",
      "execution_count": null,
      "metadata": {
        "id": "euDC8yubA-ss"
      },
      "outputs": [],
      "source": []
    },
    {
      "cell_type": "code",
      "execution_count": null,
      "metadata": {
        "id": "d7p5FtjGA-ss"
      },
      "outputs": [],
      "source": []
    },
    {
      "cell_type": "code",
      "execution_count": null,
      "metadata": {
        "id": "1o1CjEerA-st"
      },
      "outputs": [],
      "source": []
    }
  ],
  "metadata": {
    "kernelspec": {
      "display_name": "Python 3 (ipykernel)",
      "language": "python",
      "name": "python3"
    },
    "language_info": {
      "codemirror_mode": {
        "name": "ipython",
        "version": 3
      },
      "file_extension": ".py",
      "mimetype": "text/x-python",
      "name": "python",
      "nbconvert_exporter": "python",
      "pygments_lexer": "ipython3",
      "version": "3.10.6"
    },
    "colab": {
      "provenance": []
    }
  },
  "nbformat": 4,
  "nbformat_minor": 0
}