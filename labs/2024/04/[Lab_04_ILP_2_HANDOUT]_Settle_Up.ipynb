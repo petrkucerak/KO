{
  "cells": [
    {
      "cell_type": "markdown",
      "metadata": {
        "id": "nR2JVnwRue3e"
      },
      "source": [
        "# Settle Up Problem (Dlužníček)\n",
        "\n",
        "_Combinatorial Optimization course, FEE CTU in Prague. Created by [Industrial Informatics Department](http://industrialinformatics.fel.cvut.cz)._\n",
        "\n",
        "## Motivation\n",
        "\n",
        "You went on a trip with a group of your friends. All of you shared some expenses, and now it is the time to settle all the debts. It is clear that everyone should pay the same amount; however, people are lazy, and so you want to find the solution which minimizes the number of transactions.\n",
        "\n",
        "## Input\n",
        "\n",
        "You are given the following:\n",
        "\n",
        "* A set of people $P$\n",
        "* For every person $i \\in P$ the cost $c_i$ (i.e., amount of money that $i$ payed)\n",
        "\n",
        "For the experiments, you may use the following instance:"
      ]
    },
    {
      "cell_type": "code",
      "execution_count": 1,
      "metadata": {
        "id": "Idl-5FLVvpRC"
      },
      "outputs": [
        {
          "name": "stdout",
          "output_type": "stream",
          "text": [
            "Defaulting to user installation because normal site-packages is not writeable\n",
            "Requirement already satisfied: gurobipy in c:\\users\\petr.kucera\\appdata\\roaming\\python\\python312\\site-packages (11.0.0)\n"
          ]
        }
      ],
      "source": [
        "!pip install gurobipy\n",
        "import gurobipy as g"
      ]
    },
    {
      "cell_type": "code",
      "execution_count": 32,
      "metadata": {
        "id": "JajM-YdBue3g"
      },
      "outputs": [],
      "source": [
        "P = set([\"A\", \"B\", \"C\", \"D\"])\n",
        "c_d = {\"A\": 0, \"B\": 590, \"C\": 110, \"D\": 300}  # c_i is accessed by calling c[i]\n",
        "c = [0, 590, 110, 300]  # c_i is accessed by calling c[i]\n",
        "sv = sum(c_d.values())/len(c)  # the settlement value"
      ]
    },
    {
      "cell_type": "markdown",
      "metadata": {
        "id": "XWueSHMcue3h"
      },
      "source": [
        "Number $sv$ (the settlement value) is the fair price that every person should pay."
      ]
    },
    {
      "cell_type": "markdown",
      "metadata": {
        "id": "fnS0DhFdue3h"
      },
      "source": [
        "## Output\n",
        "\n",
        "You should find a list of tuples $(x_k, y_k, z_k)$ representing the transactions: person $x_k$ should pay person $y_k$ $z_k$ euros. The number of transactions (i.e., the length of the list) should be minimized.\n",
        "\n",
        "For the given instance, the **optimal solution** consists of 3 transactions, namely\n",
        "\n",
        "```\n",
        "A -> B: 250.0\n",
        "C -> D: 50.0\n",
        "C -> B: 90.0\n",
        "```"
      ]
    },
    {
      "cell_type": "markdown",
      "metadata": {
        "id": "H_Xjp1I9ue3h"
      },
      "source": [
        "## Exercise\n",
        "\n",
        "Implement the ILP model of the problem. You can assume that the settlement value is int (or was rounded)."
      ]
    },
    {
      "cell_type": "code",
      "execution_count": 43,
      "metadata": {
        "id": "bo4bWBO6ue3i",
        "outputId": "5e115345-17cf-42ec-f5b2-a9d011d66a94"
      },
      "outputs": [
        {
          "name": "stdout",
          "output_type": "stream",
          "text": [
            "Gurobi Optimizer version 11.0.0 build v11.0.0rc2 (win64 - Windows 11+.0 (22631.2))\n",
            "\n",
            "CPU model: 11th Gen Intel(R) Core(TM) i5-1145G7 @ 2.60GHz, instruction set [SSE2|AVX|AVX2|AVX512]\n",
            "Thread count: 4 physical cores, 8 logical processors, using up to 8 threads\n",
            "\n",
            "Optimize a model with 20 rows, 32 columns and 56 nonzeros\n",
            "Model fingerprint: 0xc3454dda\n",
            "Variable types: 0 continuous, 32 integer (16 binary)\n",
            "Coefficient statistics:\n",
            "  Matrix range     [1e+00, 1e+03]\n",
            "  Objective range  [1e+00, 1e+05]\n",
            "  Bounds range     [1e+00, 1e+00]\n",
            "  RHS range        [5e+01, 3e+02]\n",
            "Found heuristic solution: objective 300790.00000\n",
            "Presolve removed 4 rows and 8 columns\n",
            "Presolve time: 0.00s\n",
            "Presolved: 16 rows, 24 columns, 48 nonzeros\n",
            "Variable types: 0 continuous, 24 integer (12 binary)\n",
            "\n",
            "Root relaxation: objective 3.939000e+04, 11 iterations, 0.00 seconds (0.00 work units)\n",
            "\n",
            "    Nodes    |    Current Node    |     Objective Bounds      |     Work\n",
            " Expl Unexpl |  Obj  Depth IntInf | Incumbent    BestBd   Gap | It/Node Time\n",
            "\n",
            "     0     0 39390.0000    0    3 300790.000 39390.0000  86.9%     -    0s\n",
            "H    0     0                    300390.00000 39390.0000  86.9%     -    0s\n",
            "     0     0 212217.907    0    9 300390.000 212217.907  29.4%     -    0s\n",
            "     0     0 298870.000    0   10 300390.000 298870.000  0.51%     -    0s\n",
            "     0     0 298870.000    0   12 300390.000 298870.000  0.51%     -    0s\n",
            "     0     0 300390.000    0   13 300390.000 300390.000  0.00%     -    0s\n",
            "\n",
            "Cutting planes:\n",
            "  Gomory: 1\n",
            "  MIR: 1\n",
            "  Flow cover: 6\n",
            "  Network: 1\n",
            "\n",
            "Explored 1 nodes (31 simplex iterations) in 0.03 seconds (0.00 work units)\n",
            "Thread count was 8 (of 8 available processors)\n",
            "\n",
            "Solution count 2: 300390 300790 \n",
            "\n",
            "Optimal solution found (tolerance 1.00e-04)\n",
            "Best objective 3.003900000000e+05, best bound 3.003900000000e+05, gap 0.0000%\n",
            "\n",
            "SOLUTION:\n",
            "[-0.0, 250.0, -0.0, 0.0, -0.0, -0.0, -0.0, -0.0, -0.0, 90.0, -0.0, 50.0, -0.0, -0.0, -0.0, -0.0]\n"
          ]
        }
      ],
      "source": [
        "import gurobipy as g  # import Gurobi module\n",
        "\n",
        "# model --------------------------------------------------\n",
        "\n",
        "m = g.Model()\n",
        "\n",
        "\n",
        "# - ADD VARIABLES - jako promene zvolime transakce\n",
        "# matice - na radcich, co jsem poslal; ve sloupcich, co jsem dostal\n",
        "t_a = m.addVars(len(c), len(c), vtype=g.GRB.INTEGER)  # velikost transakce\n",
        "t_h = m.addVars(len(c), len(c), vtype=g.GRB.BINARY)  # transakce probehla\n",
        "\n",
        "\n",
        "# - ADD CONSTRAINTS\n",
        "for person_id in range(len(c)):\n",
        "    m.addConstr(t_a.sum(person_id, \"*\") -\n",
        "                t_a.sum(\"*\", person_id) + c[person_id] == sv)\n",
        "    \n",
        "for i in range(len(c)):\n",
        "        for j in range(len(c)):\n",
        "            m.addConstr(t_a[i,j] <= t_h[i,j] * sum(c))\n",
        "\n",
        "\n",
        "# - SET OBJECTIVE\n",
        "m.setObjective(t_h.sum() * 100000 + t_a.sum(), sense=g.GRB.MINIMIZE) # pridat vahu minimalizaci transakci, pote minimaluzujeme rozdily sum\n",
        "\n",
        "\n",
        "# call the solver -------------------------------------------\n",
        "\n",
        "m.optimize()\n",
        "\n",
        "\n",
        "# print the solution -----------------------------------------\n",
        "\n",
        "print('\\nSOLUTION:')\n",
        "print([t_a[i, j].x for i in range(len(c)) for j in range(len(c))])"
      ]
    },
    {
      "cell_type": "markdown",
      "metadata": {
        "id": "wblK5W9cue3i"
      },
      "source": [
        "## Additional experiments\n",
        "\n",
        "* experiment with different values of the 'big M' constant\n",
        "* try to generalize the model to work even with float sv (e.g., rounded to 0.01)\n"
      ]
    }
  ],
  "metadata": {
    "colab": {
      "provenance": []
    },
    "kernelspec": {
      "display_name": "Python 3",
      "language": "python",
      "name": "python3"
    },
    "language_info": {
      "codemirror_mode": {
        "name": "ipython",
        "version": 3
      },
      "file_extension": ".py",
      "mimetype": "text/x-python",
      "name": "python",
      "nbconvert_exporter": "python",
      "pygments_lexer": "ipython3",
      "version": "3.12.2"
    }
  },
  "nbformat": 4,
  "nbformat_minor": 0
}
