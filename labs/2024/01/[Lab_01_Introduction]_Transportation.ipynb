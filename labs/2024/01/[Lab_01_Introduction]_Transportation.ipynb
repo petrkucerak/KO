{
  "cells": [
    {
      "cell_type": "code",
      "execution_count": 3,
      "id": "51ebefcc",
      "metadata": {
        "colab": {
          "base_uri": "https://localhost:8080/"
        },
        "id": "51ebefcc",
        "outputId": "b915db66-be65-4ac3-c41f-0557e83a2f6b"
      },
      "outputs": [
        {
          "name": "stdout",
          "output_type": "stream",
          "text": [
            "Defaulting to user installation because normal site-packages is not writeable\n",
            "Requirement already satisfied: gurobipy in c:\\users\\petr.kucera\\appdata\\roaming\\python\\python312\\site-packages (11.0.0)\n"
          ]
        }
      ],
      "source": [
        "!pip install gurobipy\n",
        "import gurobipy as g\n",
        "import matplotlib.pyplot as plt\n",
        "import random\n",
        "import itertools\n",
        "import numpy as np\n",
        "import math"
      ]
    },
    {
      "cell_type": "code",
      "execution_count": 4,
      "id": "11adb519",
      "metadata": {
        "id": "11adb519"
      },
      "outputs": [],
      "source": [
        "def get_division(elements, value):\n",
        "    perm = list(np.random.permutation(value))[:elements - 1]\n",
        "    perm.sort()\n",
        "\n",
        "    result = [perm[0]] + [perm[k+1] - perm[k] for k in range(elements - 2)] + [value - perm[-1]]\n",
        "    return result\n",
        "\n",
        "def generate_instance(hubs, customers):\n",
        "    value = 8 * (hubs + customers)\n",
        "    hub_supplies = get_division(hubs, value)\n",
        "    cust_demands = get_division(customers, value)\n",
        "\n",
        "    assert sum(cust_demands) == sum(hub_supplies)\n",
        "    hub_data = [(random.random(), random.random(), hub_supply) for hub_supply in hub_supplies]\n",
        "\n",
        "\n",
        "    cust_data = [(random.random(), random.random(), cust_demand) for cust_demand in cust_demands]\n",
        "\n",
        "    return hub_data, cust_data\n",
        "\n",
        "def get_distance(x1, x2):\n",
        "    return math.sqrt((x1[0] - x2[0]) ** 2 + (x1[1] - x2[1]) ** 2)\n",
        "\n",
        "def visualize_instance(hub_data, customer_data, links=None):\n",
        "    max_val = max(max(key[2] for key in hub_data), max(key[2] for key in customer_data))\n",
        "    hx, hy = [key[0] for key in hub_data], [key[1] for key in hub_data]\n",
        "    hs = [100 * key[2] / max_val for key in hub_data]\n",
        "    plt.scatter(hx, hy, s=hs, c=\"orange\")\n",
        "\n",
        "    cx, cy = [key[0] for key in customer_data], [key[1] for key in customer_data]\n",
        "    cs = [100 * key[2] / max_val for key in customer_data]\n",
        "    plt.scatter(cx, cy, s=cs, c=\"blue\")\n",
        "\n",
        "    if links:\n",
        "        for h, c, amount in links:\n",
        "            hub, cust = hub_data[h], customer_data[c]\n",
        "            plt.plot([hub[0], cust[0]],[hub[1], cust[1]], c=\"black\", linewidth=amount/max_val * 5, zorder=0)\n",
        "\n",
        "    plt.show()\n"
      ]
    },
    {
      "cell_type": "code",
      "execution_count": 5,
      "id": "7679e179",
      "metadata": {
        "id": "7679e179"
      },
      "outputs": [],
      "source": [
        "random.seed(0)\n",
        "nm_hubs, nm_cust = 8, 20\n",
        "hubs, customers = generate_instance(nm_hubs, nm_cust)\n",
        "\n",
        "# Transportation problem\n",
        "# hubs - sources of the product x_coordinate, y_coordinate, amount_of_product\n",
        "# customers - sinks of the product x_coordinate, y_coordinate, amount_of_product\n",
        "# we need to allocate the product from hubs to customers so all the orders are met,\n",
        "# and the cost of the operation is minimized\n",
        "# weight of a single connection is defined as euclidean distance\n",
        "# between the hub and customer, calculated\n",
        "# using the get_distance(hub, customer) method"
      ]
    },
    {
      "cell_type": "code",
      "execution_count": 6,
      "id": "c71e1190",
      "metadata": {
        "id": "c71e1190",
        "outputId": "5477a989-d0d7-4f7b-d3a7-f0dc3e7b6650"
      },
      "outputs": [
        {
          "data": {
            "image/png": "[encoded data removed]",
            "text/plain": [
              "<Figure size 640x480 with 1 Axes>"
            ]
          },
          "metadata": {},
          "output_type": "display_data"
        }
      ],
      "source": [
        "visualize_instance(hubs, customers)"
      ]
    },
    {
      "cell_type": "code",
      "execution_count": null,
      "id": "7bb23053",
      "metadata": {
        "id": "7bb23053",
        "outputId": "9d7c3b4c-0599-43c4-94a1-30ea51c2fb1f"
      },
      "outputs": [
        {
          "ename": "",
          "evalue": "",
          "output_type": "error",
          "traceback": [
            "\u001b[1;31mRunning cells with 'c:\\Users\\Petr.Kucera\\AppData\\Local\\Microsoft\\WindowsApps\\python3.10.exe' requires the ipykernel package.\n",
            "\u001b[1;31mRun the following command to install 'ipykernel' into the Python environment. \n",
            "\u001b[1;31mCommand: 'c:/Users/Petr.Kucera/AppData/Local/Microsoft/WindowsApps/python3.10.exe -m pip install ipykernel -U --user --force-reinstall'"
          ]
        }
      ],
      "source": [
        "model = g.Model()\n",
        "\n",
        "# TODO enter your code\n",
        "# Hint: use non-negative real variable xs for encoding how much depot i is supplying to customer j\n",
        "\n",
        "# How to postprocess the links to be visualized\n",
        "links = []\n",
        "for i in range(nm_hubs):\n",
        "    for j in range(nm_cust):\n",
        "        if xs[i,j].x > 0.00001:\n",
        "            links.append((i, j, xs[i,j].x))"
      ]
    },
    {
      "cell_type": "code",
      "execution_count": null,
      "id": "c3f260d4",
      "metadata": {
        "id": "c3f260d4",
        "outputId": "d12444bb-f380-4b93-925f-3c6a5a94db10"
      },
      "outputs": [
        {
          "ename": "",
          "evalue": "",
          "output_type": "error",
          "traceback": [
            "\u001b[1;31mRunning cells with 'c:\\Users\\Petr.Kucera\\AppData\\Local\\Microsoft\\WindowsApps\\python3.10.exe' requires the ipykernel package.\n",
            "\u001b[1;31mRun the following command to install 'ipykernel' into the Python environment. \n",
            "\u001b[1;31mCommand: 'c:/Users/Petr.Kucera/AppData/Local/Microsoft/WindowsApps/python3.10.exe -m pip install ipykernel -U --user --force-reinstall'"
          ]
        }
      ],
      "source": [
        "visualize_instance(hubs, customers, links)"
      ]
    },
    {
      "cell_type": "code",
      "execution_count": null,
      "id": "8b19b8df",
      "metadata": {
        "id": "8b19b8df",
        "outputId": "a1cd1fd4-02a5-4a5c-8226-b9ba65dd7abe"
      },
      "outputs": [
        {
          "ename": "",
          "evalue": "",
          "output_type": "error",
          "traceback": [
            "\u001b[1;31mRunning cells with 'c:\\Users\\Petr.Kucera\\AppData\\Local\\Microsoft\\WindowsApps\\python3.10.exe' requires the ipykernel package.\n",
            "\u001b[1;31mRun the following command to install 'ipykernel' into the Python environment. \n",
            "\u001b[1;31mCommand: 'c:/Users/Petr.Kucera/AppData/Local/Microsoft/WindowsApps/python3.10.exe -m pip install ipykernel -U --user --force-reinstall'"
          ]
        }
      ],
      "source": [
        "visualize_instance(hubs, customers, links)"
      ]
    },
    {
      "cell_type": "code",
      "execution_count": null,
      "id": "6490bc3d",
      "metadata": {
        "id": "6490bc3d"
      },
      "outputs": [
        {
          "ename": "",
          "evalue": "",
          "output_type": "error",
          "traceback": [
            "\u001b[1;31mRunning cells with 'c:\\Users\\Petr.Kucera\\AppData\\Local\\Microsoft\\WindowsApps\\python3.10.exe' requires the ipykernel package.\n",
            "\u001b[1;31mRun the following command to install 'ipykernel' into the Python environment. \n",
            "\u001b[1;31mCommand: 'c:/Users/Petr.Kucera/AppData/Local/Microsoft/WindowsApps/python3.10.exe -m pip install ipykernel -U --user --force-reinstall'"
          ]
        }
      ],
      "source": []
    }
  ],
  "metadata": {
    "colab": {
      "provenance": []
    },
    "kernelspec": {
      "display_name": "Python 3 (ipykernel)",
      "language": "python",
      "name": "python3"
    },
    "language_info": {
      "codemirror_mode": {
        "name": "ipython",
        "version": 3
      },
      "file_extension": ".py",
      "mimetype": "text/x-python",
      "name": "python",
      "nbconvert_exporter": "python",
      "pygments_lexer": "ipython3",
      "version": "3.12.2"
    }
  },
  "nbformat": 4,
  "nbformat_minor": 5
}
