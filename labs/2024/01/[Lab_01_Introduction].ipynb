{
  "cells": [
    {
      "cell_type": "code",
      "execution_count": null,
      "metadata": {
        "pycharm": {
          "is_executing": true
        },
        "colab": {
          "base_uri": "https://localhost:8080/"
        },
        "id": "6m3k8mGWMUq-",
        "outputId": "1022aaa0-dee8-4419-dc13-94533d3c427e"
      },
      "outputs": [
        {
          "output_type": "stream",
          "name": "stdout",
          "text": [
            "Collecting gurobipy\n",
            "  Downloading gurobipy-11.0.0-cp310-cp310-manylinux2014_x86_64.manylinux_2_17_x86_64.whl (13.4 MB)\n",
            "\u001b[2K     \u001b[90m━━━━━━━━━━━━━━━━━━━━━━━━━━━━━━━━━━━━━━━━\u001b[0m \u001b[32m13.4/13.4 MB\u001b[0m \u001b[31m17.8 MB/s\u001b[0m eta \u001b[36m0:00:00\u001b[0m\n",
            "\u001b[?25hInstalling collected packages: gurobipy\n",
            "Successfully installed gurobipy-11.0.0\n"
          ]
        }
      ],
      "source": [
        "!pip install gurobipy\n",
        "import gurobipy as g"
      ]
    },
    {
      "cell_type": "markdown",
      "source": [
        "**Sanity check** whether we have installed Gurobi"
      ],
      "metadata": {
        "id": "HoaomivMMZn_"
      }
    },
    {
      "cell_type": "code",
      "execution_count": null,
      "metadata": {
        "colab": {
          "base_uri": "https://localhost:8080/"
        },
        "id": "P1QPswNTMUrA",
        "outputId": "8abd3ae8-802c-43d0-99a1-38e9c13df297"
      },
      "outputs": [
        {
          "output_type": "stream",
          "name": "stdout",
          "text": [
            "Restricted license - for non-production use only - expires 2025-11-24\n",
            "Gurobi Optimizer version 11.0.0 build v11.0.0rc2 (linux64 - \"Ubuntu 22.04.3 LTS\")\n",
            "\n",
            "CPU model: Intel(R) Xeon(R) CPU @ 2.20GHz, instruction set [SSE2|AVX|AVX2]\n",
            "Thread count: 1 physical cores, 2 logical processors, using up to 2 threads\n",
            "\n",
            "Optimize a model with 0 rows, 0 columns and 0 nonzeros\n",
            "Model fingerprint: 0xf9715da1\n",
            "Coefficient statistics:\n",
            "  Matrix range     [0e+00, 0e+00]\n",
            "  Objective range  [0e+00, 0e+00]\n",
            "  Bounds range     [0e+00, 0e+00]\n",
            "  RHS range        [0e+00, 0e+00]\n",
            "Presolve time: 0.01s\n",
            "Presolve: All rows and columns removed\n",
            "Iteration    Objective       Primal Inf.    Dual Inf.      Time\n",
            "       0    0.0000000e+00   0.000000e+00   0.000000e+00      0s\n",
            "\n",
            "Solved in 0 iterations and 0.01 seconds (0.00 work units)\n",
            "Optimal objective  0.000000000e+00\n"
          ]
        }
      ],
      "source": [
        "model = g.Model()\n",
        "model.optimize()"
      ]
    },
    {
      "cell_type": "markdown",
      "source": [
        "Basic example how to model linear programming problem. Problem contains two variables (we can easily make them integer by changing the appropiate vtype), three constraints and maximization objective."
      ],
      "metadata": {
        "id": "blqLoIdcMliO"
      }
    },
    {
      "cell_type": "code",
      "execution_count": null,
      "metadata": {
        "colab": {
          "base_uri": "https://localhost:8080/"
        },
        "id": "pgZotJV4MUrB",
        "outputId": "c7853750-98a8-4ebf-a55a-31f6024c7aff"
      },
      "outputs": [
        {
          "output_type": "stream",
          "name": "stdout",
          "text": [
            "Gurobi Optimizer version 11.0.0 build v11.0.0rc2 (linux64 - \"Ubuntu 22.04.3 LTS\")\n",
            "\n",
            "CPU model: Intel(R) Xeon(R) CPU @ 2.20GHz, instruction set [SSE2|AVX|AVX2]\n",
            "Thread count: 1 physical cores, 2 logical processors, using up to 2 threads\n",
            "\n",
            "Optimize a model with 2 rows, 2 columns and 4 nonzeros\n",
            "Model fingerprint: 0xe44d31a6\n",
            "Coefficient statistics:\n",
            "  Matrix range     [3e+00, 5e+00]\n",
            "  Objective range  [2e+01, 3e+01]\n",
            "  Bounds range     [0e+00, 0e+00]\n",
            "  RHS range        [5e+01, 6e+01]\n",
            "Presolve time: 0.01s\n",
            "Presolved: 2 rows, 2 columns, 4 nonzeros\n",
            "\n",
            "Iteration    Objective       Primal Inf.    Dual Inf.      Time\n",
            "       0    5.7000000e+31   2.875000e+30   5.700000e+01      0s\n",
            "       2    3.7400000e+02   0.000000e+00   0.000000e+00      0s\n",
            "\n",
            "Solved in 2 iterations and 0.01 seconds (0.00 work units)\n",
            "Optimal objective  3.740000000e+02\n",
            "Optimal objective: 374.0\n",
            "x: 7.0 y: 6.0\n",
            "Solutions 1\n"
          ]
        }
      ],
      "source": [
        "import gurobipy as g\n",
        "\n",
        "# Create empty optimization model.\n",
        "# In Python, only one environment exists and it is created internally\n",
        "# in the Model() constructor.\n",
        "model = g.Model()\n",
        "\n",
        "# Create variables x, y.\n",
        "x = model.addVar(lb=0, ub=g.GRB.INFINITY, vtype=g.GRB.CONTINUOUS, name=\"x\")\n",
        "y = model.addVar(lb=0, ub=g.GRB.INFINITY, vtype=g.GRB.CONTINUOUS, name=\"y\")\n",
        "\n",
        "# Set objective: maximize 32x + 25y\n",
        "model.setObjective(32*x + 25*y, sense=g.GRB.MAXIMIZE)\n",
        "\n",
        "# Add constraint: 5x + 4y <= 59\n",
        "model.addConstr(5*x + 4*y <= 59, \"cons1\")\n",
        "\n",
        "# Add constraint: 4x + 3y <= 46\n",
        "model.addConstr(4*x + 3*y <= 46, \"cons2\")\n",
        "\n",
        "# Solve the model.\n",
        "model.optimize()\n",
        "\n",
        "# Number of solutions found by the solver\n",
        "sol_count = model.getAttr(\"SolCount\")\n",
        "\n",
        "\n",
        "# Print the objective and the values of the decision variables in the solution.\n",
        "print(\"Optimal objective:\", model.objVal)\n",
        "print(\"x:\", x.x, \"y:\", y.x)\n",
        "print(\"Solutions\", sol_count)"
      ]
    },
    {
      "cell_type": "markdown",
      "source": [
        "**Diet problem example**\n",
        "\n",
        "The cook needs to prepare a lunch for pupils. Each lunch needs to contain the minimum amount of each of the nutrient groups, but we also want to produce as cheap lunch as possible.\n",
        "\n",
        "Nutrients per food type unit:\n",
        "* potatoes - 2 units of sugars, 2 units of protein, 1 unit of vitamins\n",
        "* meat - 1 unit of sugars, 6 units of protein, 3 units of vitamins\n",
        "* vegetables - 1 unit of sugars, 1 unit of protein, 6 units of vitamins\n",
        "\n",
        "Each meal must contain at least 8 units of sugar, 16 units of protein and 8 units of vitamins. Potatoes cost 25 crowns per unit, meat 50 crowns, vegetables 80 crowns."
      ],
      "metadata": {
        "id": "0eoSM-M0NXM9"
      }
    },
    {
      "cell_type": "code",
      "execution_count": null,
      "metadata": {
        "colab": {
          "base_uri": "https://localhost:8080/"
        },
        "id": "wKmTdJU5MUrC",
        "outputId": "3744598a-d8f4-4f59-96f4-40329aaf0745"
      },
      "outputs": [
        {
          "output_type": "stream",
          "name": "stdout",
          "text": [
            "Gurobi Optimizer version 11.0.0 build v11.0.0rc2 (linux64 - \"Ubuntu 22.04.3 LTS\")\n",
            "\n",
            "CPU model: Intel(R) Xeon(R) CPU @ 2.20GHz, instruction set [SSE2|AVX|AVX2]\n",
            "Thread count: 1 physical cores, 2 logical processors, using up to 2 threads\n",
            "\n",
            "Optimize a model with 3 rows, 3 columns and 9 nonzeros\n",
            "Model fingerprint: 0x503da7d6\n",
            "Coefficient statistics:\n",
            "  Matrix range     [1e+00, 6e+00]\n",
            "  Objective range  [2e+01, 8e+01]\n",
            "  Bounds range     [0e+00, 0e+00]\n",
            "  RHS range        [7e+00, 2e+01]\n",
            "Presolve time: 0.01s\n",
            "Presolved: 3 rows, 3 columns, 9 nonzeros\n",
            "\n",
            "Iteration    Objective       Primal Inf.    Dual Inf.      Time\n",
            "       0    0.0000000e+00   6.875000e+00   0.000000e+00      0s\n",
            "       2    1.6000000e+02   0.000000e+00   0.000000e+00      0s\n",
            "\n",
            "Solved in 2 iterations and 0.01 seconds (0.00 work units)\n",
            "Optimal objective  1.600000000e+02\n",
            "cost  160.0\n",
            "potatoes  3.2\n",
            "meat  1.5999999999999999\n",
            "vegetable  0.0\n"
          ]
        }
      ],
      "source": [
        "import gurobipy as g\n",
        "\n",
        "model = g.Model()\n",
        "\n",
        "# variables\n",
        "potato = model.addVar(lb=0, vtype=g.GRB.CONTINUOUS, name=\"p\")\n",
        "meat = model.addVar(lb=0, vtype=g.GRB.CONTINUOUS, name=\"m\")\n",
        "vegetable = model.addVar(lb=0, vtype=g.GRB.CONTINUOUS, name=\"v\")\n",
        "\n",
        "# sugar constraint\n",
        "model.addConstr(2 * potato + 1 * meat + 1 * vegetable >= 8)\n",
        "\n",
        "# protein constraint\n",
        "model.addConstr(2 * potato + 6 * meat + 1 * vegetable >= 16)\n",
        "\n",
        "# vitamin constraint\n",
        "model.addConstr(1 + potato + 3 * meat + 6 * vegetable >= 8)\n",
        "\n",
        "# criterion\n",
        "model.setObjective(25 * potato + 50 * meat + 80 * vegetable, sense=g.GRB.MINIMIZE)\n",
        "\n",
        "model.optimize()\n",
        "print(\"cost \", model.objVal)\n",
        "print(\"potatoes \", potato.x)\n",
        "print(\"meat \", meat.x)\n",
        "print(\"vegetable \", vegetable.x)"
      ]
    },
    {
      "cell_type": "markdown",
      "source": [
        "Alternative model for diet problem using addMVar (matrix input):"
      ],
      "metadata": {
        "id": "RJBpVnHz3u9r"
      }
    },
    {
      "cell_type": "code",
      "source": [
        "import numpy as np\n",
        "model = g.Model()\n",
        "\n",
        "x = model.addMVar(3, vtype=g.GRB.CONTINUOUS)\n",
        "c = np.array([25, 50, 80])\n",
        "A = np.array([[2, 1, 1], [2, 6, 1], [1, 3, 6]])\n",
        "b = np.array([8, 16, 8])\n",
        "\n",
        "model.addConstr(A@x >= b)\n",
        "model.setObjective(c@x)\n",
        "\n",
        "model.optimize()\n",
        "\n",
        "print(\"results:\", x.x)"
      ],
      "metadata": {
        "colab": {
          "base_uri": "https://localhost:8080/"
        },
        "id": "WToexctU31ls",
        "outputId": "844b60fd-175d-480a-df00-63e7ace82438"
      },
      "execution_count": null,
      "outputs": [
        {
          "output_type": "stream",
          "name": "stdout",
          "text": [
            "Gurobi Optimizer version 11.0.0 build v11.0.0rc2 (linux64 - \"Ubuntu 22.04.3 LTS\")\n",
            "\n",
            "CPU model: Intel(R) Xeon(R) CPU @ 2.20GHz, instruction set [SSE2|AVX|AVX2]\n",
            "Thread count: 1 physical cores, 2 logical processors, using up to 2 threads\n",
            "\n",
            "Optimize a model with 3 rows, 3 columns and 9 nonzeros\n",
            "Model fingerprint: 0x896fb4d8\n",
            "Coefficient statistics:\n",
            "  Matrix range     [1e+00, 6e+00]\n",
            "  Objective range  [2e+01, 8e+01]\n",
            "  Bounds range     [0e+00, 0e+00]\n",
            "  RHS range        [8e+00, 2e+01]\n",
            "Presolve time: 0.01s\n",
            "Presolved: 3 rows, 3 columns, 9 nonzeros\n",
            "\n",
            "Iteration    Objective       Primal Inf.    Dual Inf.      Time\n",
            "       0    0.0000000e+00   7.000000e+00   0.000000e+00      0s\n",
            "       2    1.6000000e+02   0.000000e+00   0.000000e+00      0s\n",
            "\n",
            "Solved in 2 iterations and 0.02 seconds (0.00 work units)\n",
            "Optimal objective  1.600000000e+02\n",
            "results: [3.2 1.6 0. ]\n"
          ]
        }
      ]
    },
    {
      "cell_type": "markdown",
      "source": [
        "Plot graph of vegetables required as a function of minimum vitamins constraint."
      ],
      "metadata": {
        "id": "mhvXvmrasgzd"
      }
    },
    {
      "cell_type": "code",
      "source": [
        "import matplotlib.pyplot as plt\n",
        "import numpy as np\n",
        "\n",
        "\n",
        "def compute_diet(vitamins_required=8):\n",
        "  model = g.Model()\n",
        "  model.params.OutputFlag = 0   # supressing Gurobi solver output to console\n",
        "\n",
        "  x = model.addMVar(3, vtype=g.GRB.CONTINUOUS)\n",
        "  c = np.array([25, 50, 80])\n",
        "  A = np.array([[2, 1, 1], [2, 6, 1], [1, 3, 6]])\n",
        "  b = np.array([8, 16, vitamins_required])\n",
        "\n",
        "  model.addConstr(A@x >= b)\n",
        "  model.setObjective(c@x)\n",
        "\n",
        "  model.optimize()\n",
        "  return x[2].x\n",
        "\n",
        "vitamins = np.linspace(0, 13, 50)\n",
        "vegetables_needed = list(map(compute_diet, vitamins))\n",
        "plt.plot(vitamins, vegetables_needed)\n",
        "plt.xlabel('vitamins required [-]')\n",
        "plt.ylabel('vegetables needed [-]')"
      ],
      "metadata": {
        "colab": {
          "base_uri": "https://localhost:8080/",
          "height": 484
        },
        "id": "5MPmd9rOspYS",
        "outputId": "370719b4-63ca-4506-90f9-0c58f4d26730"
      },
      "execution_count": null,
      "outputs": [
        {
          "output_type": "stream",
          "name": "stdout",
          "text": [
            "Restricted license - for non-production use only - expires 2025-11-24\n"
          ]
        },
        {
          "output_type": "execute_result",
          "data": {
            "text/plain": [
              "Text(0, 0.5, 'vegetables needed [-]')"
            ]
          },
          "metadata": {},
          "execution_count": 3
        },
        {
          "output_type": "display_data",
          "data": {
            "text/plain": [
              "<Figure size 640x480 with 1 Axes>"
            ],
            "image/png": "[encoded data removed]"
          },
          "metadata": {}
        }
      ]
    },
    {
      "cell_type": "code",
      "execution_count": null,
      "metadata": {
        "id": "o-yAT2w7MUrF"
      },
      "outputs": [],
      "source": []
    }
  ],
  "metadata": {
    "kernelspec": {
      "display_name": "Python 3 (ipykernel)",
      "language": "python",
      "name": "python3"
    },
    "language_info": {
      "codemirror_mode": {
        "name": "ipython",
        "version": 3
      },
      "file_extension": ".py",
      "mimetype": "text/x-python",
      "name": "python",
      "nbconvert_exporter": "python",
      "pygments_lexer": "ipython3",
      "version": "3.10.6"
    },
    "colab": {
      "provenance": []
    }
  },
  "nbformat": 4,
  "nbformat_minor": 0
}