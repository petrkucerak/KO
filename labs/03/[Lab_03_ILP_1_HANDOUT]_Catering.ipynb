{
  "cells": [
    {
      "cell_type": "markdown",
      "metadata": {
        "id": "LAJOueyJmACy"
      },
      "source": [
        "# The Catering Problem\n",
        "\n",
        "## Motivation\n",
        "\n",
        "A catering company to cook $n$ dishes, but has only one available oven.\n",
        "    At most a single dish can be inside the oven at one time.    \n",
        "    Each dish $i$ has its earliest time when it can be put into the oven $r_i$ (since it needs to be prepared before it is put into the oven), the latest time it should be taken from the oven $d_i$ (since the customers do not want to wait too long), and the time it needs to stay in the oven $p_i$.\n",
        "    The goal is to find the vector of times $\\mathbf{s} = (s_0, \\dots, s_{n-1})$ (denoting the times when each dish is put into the oven) such that the finish time of the last dish is minimal.\n",
        "    \n",
        "## Input\n",
        "\n",
        "You are given the following:\n",
        "* number of dished $n$\n",
        "* parameters $r_i$, $d_i$ and $p_i$ for each dish $i$\n",
        "\n",
        "For the testing purposes, you can experiment with the following instance:"
      ]
    },
    {
      "cell_type": "code",
      "execution_count": null,
      "metadata": {
        "colab": {
          "base_uri": "https://localhost:8080/"
        },
        "id": "nj3T04G3mAC1",
        "outputId": "99e10c64-ded5-47dd-a437-e8da7d5dbd51"
      },
      "outputs": [
        {
          "output_type": "stream",
          "name": "stdout",
          "text": [
            "Requirement already satisfied: gurobipy in /usr/local/lib/python3.10/dist-packages (11.0.1)\n"
          ]
        }
      ],
      "source": [
        "!pip install gurobipy\n",
        "n = 5\n",
        "params = {\n",
        "    0: {'r': 20, 'd': 45, 'p': 15},\n",
        "    1: {'r':  4, 'd': 30, 'p': 19},\n",
        "    2: {'r':  5, 'd': 80, 'p': 20},\n",
        "    3: {'r': 17, 'd': 70, 'p':  8},\n",
        "    4: {'r': 27, 'd': 66, 'p':  7}\n",
        "}\n",
        "\n",
        "# Note: parameter d_1 can be obtained by params[1][\"d\"]"
      ]
    },
    {
      "cell_type": "markdown",
      "metadata": {
        "id": "-8CN-csvmAC2"
      },
      "source": [
        "## Output\n",
        "\n",
        "You are expected to find the vector $\\mathbf{s} = (s_0, \\dots, s_{n-1})$ denoting the times when each dish should be put into the oven.\n",
        "\n",
        "The optimal solution vector for the given instance is $\\mathbf{s} = (23, 4, 53, 38, 46)$.\n",
        "\n",
        "## Exercise\n",
        "\n",
        "Your task is to formulate the ILP model of the catering problem, solve it, and extract the vector $\\mathbf{s}$. The example solution follows:"
      ]
    },
    {
      "cell_type": "markdown",
      "metadata": {
        "id": "5KJY3HFrmAC3"
      },
      "source": [
        "Hint: to ensure that any two dishes $i$ and $j$ are not overlapping in the oven, you need to ensure that one of the following constraints holds: $s_i + p_i \\leq s_j$ or $s_j + p_j \\leq s_i$. This might be perhaps done using big-M..."
      ]
    },
    {
      "cell_type": "code",
      "execution_count": null,
      "metadata": {
        "colab": {
          "base_uri": "https://localhost:8080/"
        },
        "id": "vNHACeYemAC3",
        "outputId": "7c8a49d7-1226-4fbb-da1f-5a3acacc44fc"
      },
      "outputs": [
        {
          "output_type": "stream",
          "name": "stdout",
          "text": [
            "Restricted license - for non-production use only - expires 2025-11-24\n",
            "Gurobi Optimizer version 11.0.1 build v11.0.1rc0 (linux64 - \"Ubuntu 22.04.3 LTS\")\n",
            "\n",
            "CPU model: Intel(R) Xeon(R) CPU @ 2.20GHz, instruction set [SSE2|AVX|AVX2]\n",
            "Thread count: 1 physical cores, 2 logical processors, using up to 2 threads\n",
            "\n",
            "Optimize a model with 35 rows, 31 columns and 80 nonzeros\n",
            "Model fingerprint: 0x0287ec20\n",
            "Variable types: 6 continuous, 25 integer (25 binary)\n",
            "Coefficient statistics:\n",
            "  Matrix range     [1e+00, 8e+01]\n",
            "  Objective range  [1e+00, 1e+00]\n",
            "  Bounds range     [1e+00, 3e+01]\n",
            "  RHS range        [4e+00, 7e+01]\n",
            "Found heuristic solution: objective 73.0000000\n",
            "Presolve removed 31 rows and 27 columns\n",
            "Presolve time: 0.00s\n",
            "Presolved: 4 rows, 4 columns, 10 nonzeros\n",
            "Variable types: 3 continuous, 1 integer (1 binary)\n",
            "\n",
            "Explored 0 nodes (0 simplex iterations) in 0.02 seconds (0.00 work units)\n",
            "Thread count was 2 (of 2 available processors)\n",
            "\n",
            "Solution count 1: 73 \n",
            "\n",
            "Optimal solution found (tolerance 1.00e-04)\n",
            "Best objective 7.300000000000e+01, best bound 7.300000000000e+01, gap 0.0000%\n",
            "\n",
            "SOLUTION:\n",
            "i: 0, si: 23.0\n",
            "i: 1, si: 4.0\n",
            "i: 2, si: 53.0\n",
            "i: 3, si: 38.0\n",
            "i: 4, si: 46.0\n"
          ]
        }
      ],
      "source": [
        "import gurobipy as g  # import Gurobi module\n",
        "\n",
        "# model -----------------------------------------------------\n",
        "m = g.Model()\n",
        "\n",
        "# - ADD VARIABLES\n",
        "s = m.addVars(n, vtype=g.GRB.CONTINUOUS, lb=[params[i]['r'] for i in range(n)])\n",
        "Cmax = m.addVar(obj=1)\n",
        "x = m.addVars(n, n, vtype=g.GRB.BINARY)\n",
        "\n",
        "# - ADD CONSTRAINTS\n",
        "for i in range(n):\n",
        "  m.addConstr(s[i] >= params[i]['r'])\n",
        "  m.addConstr(s[i] + params[i]['p'] <= params[i]['d'])\n",
        "  m.addConstr(s[i] + params[i]['p'] <= Cmax)\n",
        "\n",
        "M = max([params[i]['d'] for i in range(n)])\n",
        "for i in range(n):\n",
        "  for j in range(i+1, n):\n",
        "    m.addConstr(s[i] + params[i]['p'] <= s[j] + M*(1-x[i,j]))\n",
        "    m.addConstr(s[j] + params[j]['p'] <= s[i] + M*x[i,j])\n",
        "\n",
        "# - SET OBJECTIVE\n",
        "# neni potreba\n",
        "\n",
        "# call the solver -------------------------------------------\n",
        "m.optimize()\n",
        "\n",
        "# print the solution ----------------------------------------\n",
        "print('\\nSOLUTION:')\n",
        "for i in range(n):\n",
        "  print('i: {}, si: {}'.format(i, s[i].x))\n"
      ]
    },
    {
      "cell_type": "markdown",
      "metadata": {
        "id": "21nhmLjAmAC4"
      },
      "source": [
        "## Solution visualization"
      ]
    },
    {
      "cell_type": "code",
      "execution_count": null,
      "metadata": {
        "colab": {
          "base_uri": "https://localhost:8080/",
          "height": 234
        },
        "id": "svifF3glmAC5",
        "outputId": "29b439cd-b446-4744-be82-f50535a3a908"
      },
      "outputs": [
        {
          "output_type": "display_data",
          "data": {
            "text/plain": [
              "<Figure size 1000x200 with 1 Axes>"
            ],
            "image/png": "[encoded data removed]"
          },
          "metadata": {}
        }
      ],
      "source": [
        "import matplotlib.pyplot as plt\n",
        "\n",
        "def plot_solution(s, p):\n",
        "    \"\"\"\n",
        "    s: solution vector\n",
        "    p: processing times\n",
        "    \"\"\"\n",
        "    fig = plt.figure(figsize=(10,2))\n",
        "    ax = plt.gca()\n",
        "    ax.set_xlabel('time')\n",
        "    ax.grid(True)\n",
        "    ax.set_yticks([2.5])\n",
        "    ax.set_yticklabels([\"oven\"])\n",
        "    eps = 0.25  # just to show spaces between the dishes\n",
        "    ax.broken_barh([(s[i], p[i]-eps) for i in range(len(s))], (0, 5),\n",
        "                   facecolors=('tab:orange', 'tab:green', 'tab:red', 'tab:blue', 'tab:gray'))\n",
        "\n",
        "# TODO: plot your solution\n",
        "plot_solution([23.0, 4.0, 53.0, 38.0, 46.0], [params[i][\"p\"] for i in range(n)])"
      ]
    },
    {
      "cell_type": "code",
      "execution_count": null,
      "metadata": {
        "id": "nchTsfJEmAC6",
        "colab": {
          "base_uri": "https://localhost:8080/",
          "height": 234
        },
        "outputId": "29a316c5-2155-4044-def7-62f491c0d1b8"
      },
      "outputs": [
        {
          "output_type": "display_data",
          "data": {
            "text/plain": [
              "<Figure size 1000x200 with 1 Axes>"
            ],
            "image/png": "[encoded data removed]"
          },
          "metadata": {}
        }
      ],
      "source": [
        "plot_solution([s[i].x for i in range(n)], [params[i][\"p\"] for i in range(n)])"
      ]
    }
  ],
  "metadata": {
    "kernelspec": {
      "display_name": "Python 3",
      "language": "python",
      "name": "python3"
    },
    "language_info": {
      "codemirror_mode": {
        "name": "ipython",
        "version": 3
      },
      "file_extension": ".py",
      "mimetype": "text/x-python",
      "name": "python",
      "nbconvert_exporter": "python",
      "pygments_lexer": "ipython3",
      "version": "3.8.10"
    },
    "colab": {
      "provenance": []
    }
  },
  "nbformat": 4,
  "nbformat_minor": 0
}