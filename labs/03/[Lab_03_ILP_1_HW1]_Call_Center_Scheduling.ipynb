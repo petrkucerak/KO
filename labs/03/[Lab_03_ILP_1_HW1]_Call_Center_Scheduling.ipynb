{
  "cells": [
    {
      "cell_type": "markdown",
      "id": "344e0238",
      "metadata": {
        "id": "344e0238"
      },
      "source": [
        "# Call center scheduling\n",
        "for instructions see HW1 in BRUTE"
      ]
    },
    {
      "cell_type": "code",
      "execution_count": 1,
      "id": "0137c9f0",
      "metadata": {
        "colab": {
          "base_uri": "https://localhost:8080/"
        },
        "id": "0137c9f0",
        "outputId": "a434fbf5-fc1c-4b71-e654-cfddf8336ca9"
      },
      "outputs": [
        {
          "name": "stdout",
          "output_type": "stream",
          "text": [
            "Defaulting to user installation because normal site-packages is not writeable\n",
            "Requirement already satisfied: gurobipy in c:\\users\\petr.kucera\\appdata\\roaming\\python\\python312\\site-packages (11.0.0)\n"
          ]
        }
      ],
      "source": [
        "!pip install gurobipy\n",
        "%matplotlib inline\n",
        "import gurobipy as g\n",
        "import matplotlib.pyplot as plt"
      ]
    },
    {
      "cell_type": "code",
      "execution_count": 2,
      "id": "7f9aa16b",
      "metadata": {
        "id": "7f9aa16b"
      },
      "outputs": [],
      "source": [
        "d = [6, 6, 6, 6, 6, 8, 9, 12, 18, 22, 25, 21, 21, 20, 18, 21, 21, 24, 24, 18, 18, 18, 12, 8]"
      ]
    },
    {
      "cell_type": "code",
      "execution_count": 3,
      "id": "25bcbb1e",
      "metadata": {
        "colab": {
          "base_uri": "https://localhost:8080/"
        },
        "id": "25bcbb1e",
        "outputId": "66101b2b-87cc-4ed0-ffa2-d481c97f8129"
      },
      "outputs": [
        {
          "name": "stdout",
          "output_type": "stream",
          "text": [
            "Set parameter Username\n",
            "Academic license - for non-commercial use only - expires 2025-02-21\n",
            "Gurobi Optimizer version 11.0.0 build v11.0.0rc2 (win64 - Windows 11+.0 (22631.2))\n",
            "\n",
            "CPU model: 11th Gen Intel(R) Core(TM) i5-1145G7 @ 2.60GHz, instruction set [SSE2|AVX|AVX2|AVX512]\n",
            "Thread count: 4 physical cores, 8 logical processors, using up to 8 threads\n",
            "\n",
            "Optimize a model with 24 rows, 24 columns and 192 nonzeros\n",
            "Model fingerprint: 0x71dbed7a\n",
            "Variable types: 0 continuous, 24 integer (0 binary)\n",
            "Coefficient statistics:\n",
            "  Matrix range     [1e+00, 1e+00]\n",
            "  Objective range  [1e+00, 1e+00]\n",
            "  Bounds range     [0e+00, 0e+00]\n",
            "  RHS range        [6e+00, 3e+01]\n",
            "Found heuristic solution: objective 58.0000000\n",
            "Presolve time: 0.01s\n",
            "Presolved: 24 rows, 24 columns, 192 nonzeros\n"
          ]
        },
        {
          "name": "stdout",
          "output_type": "stream",
          "text": [
            "Variable types: 0 continuous, 24 integer (0 binary)\n",
            "\n",
            "Root relaxation: objective 5.500000e+01, 14 iterations, 0.00 seconds (0.00 work units)\n",
            "\n",
            "    Nodes    |    Current Node    |     Objective Bounds      |     Work\n",
            " Expl Unexpl |  Obj  Depth IntInf | Incumbent    BestBd   Gap | It/Node Time\n",
            "\n",
            "*    0     0               0      55.0000000   55.00000  0.00%     -    0s\n",
            "\n",
            "Explored 1 nodes (14 simplex iterations) in 0.06 seconds (0.00 work units)\n",
            "Thread count was 8 (of 8 available processors)\n",
            "\n",
            "Solution count 2: 55 58 \n",
            "\n",
            "Optimal solution found (tolerance 1.00e-04)\n",
            "Best objective 5.500000000000e+01, best bound 5.500000000000e+01, gap 0.0000%\n"
          ]
        }
      ],
      "source": [
        "m = g.Model()\n",
        "\n",
        "xs = m.addVars(len(d), lb=0, vtype=g.GRB.INTEGER, name=[f\"x{i}\" for i in range(len(d))])\n",
        "\n",
        "for i in range(len(d)):\n",
        "    m.addConstr(g.quicksum(xs[j % len(d)] for j in range(i - 7, i + 1)) >= d[i])\n",
        "\n",
        "m.setObjective(xs.sum(), sense=g.GRB.MINIMIZE)\n",
        "\n",
        "m.optimize()\n",
        "\n"
      ]
    },
    {
      "cell_type": "code",
      "execution_count": 4,
      "id": "24cb33f9",
      "metadata": {
        "colab": {
          "base_uri": "https://localhost:8080/",
          "height": 263
        },
        "id": "24cb33f9",
        "outputId": "8c898674-e008-4f31-959f-88297c823ad0"
      },
      "outputs": [
        {
          "ename": "NameError",
          "evalue": "name 'x' is not defined",
          "output_type": "error",
          "traceback": [
            "\u001b[1;31m---------------------------------------------------------------------------\u001b[0m",
            "\u001b[1;31mNameError\u001b[0m                                 Traceback (most recent call last)",
            "Cell \u001b[1;32mIn[4], line 16\u001b[0m\n\u001b[0;32m     13\u001b[0m     plt\u001b[38;5;241m.\u001b[39mgrid()\n\u001b[0;32m     14\u001b[0m     plt\u001b[38;5;241m.\u001b[39mshow()\n\u001b[1;32m---> 16\u001b[0m plot_shifts([\u001b[43mx\u001b[49m[i]\u001b[38;5;241m.\u001b[39mx \u001b[38;5;28;01mfor\u001b[39;00m i \u001b[38;5;129;01min\u001b[39;00m \u001b[38;5;28mrange\u001b[39m(\u001b[38;5;241m24\u001b[39m)])\n",
            "\u001b[1;31mNameError\u001b[0m: name 'x' is not defined"
          ]
        }
      ],
      "source": [
        "def plot_shifts(x_start):\n",
        "    num_shifts = [sum([x_start[k % 24] for k in range(i-7, i+1)]) for i in range(24)]\n",
        "    margin = 0.2\n",
        "    width = 0.3\n",
        "    plt.figure(figsize=(8, 4))\n",
        "    plt.bar([h + margin for h in range(24)], d, width=width, color='green')\n",
        "    plt.bar([h + margin + width for h in range(24)], num_shifts, width=width, color='yellow')\n",
        "    plt.xlabel(\"hour\")\n",
        "    plt.legend(['demand', 'number shifts'], ncol=2, bbox_to_anchor=(0.8, 1.1))\n",
        "    plt.xlim(0, 24)\n",
        "    plt.ylim(0, max(num_shifts + d) + 1)\n",
        "    plt.xticks(range(24), [i % 24 for i in range(24)])\n",
        "    plt.grid()\n",
        "    plt.show()\n",
        "\n",
        "plot_shifts([x[i].x for i in range(24)])"
      ]
    }
  ],
  "metadata": {
    "colab": {
      "provenance": []
    },
    "kernelspec": {
      "display_name": "Python 3 (ipykernel)",
      "language": "python",
      "name": "python3"
    },
    "language_info": {
      "codemirror_mode": {
        "name": "ipython",
        "version": 3
      },
      "file_extension": ".py",
      "mimetype": "text/x-python",
      "name": "python",
      "nbconvert_exporter": "python",
      "pygments_lexer": "ipython3",
      "version": "3.12.2"
    }
  },
  "nbformat": 4,
  "nbformat_minor": 5
}
