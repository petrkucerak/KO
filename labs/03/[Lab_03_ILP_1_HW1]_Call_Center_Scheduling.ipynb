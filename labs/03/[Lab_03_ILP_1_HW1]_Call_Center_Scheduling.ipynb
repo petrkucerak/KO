{
  "cells": [
    {
      "cell_type": "markdown",
      "id": "344e0238",
      "metadata": {
        "id": "344e0238"
      },
      "source": [
        "# Call center scheduling\n",
        "\n",
        "for instructions see HW1 in BRUTE\n"
      ]
    },
    {
      "cell_type": "code",
      "execution_count": 1,
      "id": "0137c9f0",
      "metadata": {
        "id": "0137c9f0"
      },
      "outputs": [
        {
          "name": "stdout",
          "output_type": "stream",
          "text": [
            "Defaulting to user installation because normal site-packages is not writeable\n",
            "Requirement already satisfied: gurobipy in c:\\users\\petr.kucera\\appdata\\roaming\\python\\python312\\site-packages (11.0.0)\n"
          ]
        }
      ],
      "source": [
        "!pip install gurobipy\n",
        "%matplotlib inline\n",
        "import gurobipy as g\n",
        "import matplotlib.pyplot as plt"
      ]
    },
    {
      "cell_type": "code",
      "execution_count": 2,
      "id": "7f9aa16b",
      "metadata": {
        "id": "7f9aa16b"
      },
      "outputs": [],
      "source": [
        "d = [6, 6, 6, 6, 6, 8, 9, 12, 18, 22, 25, 21, 21,\n",
        "     20, 18, 21, 21, 24, 24, 18, 18, 18, 12, 8]"
      ]
    },
    {
      "cell_type": "code",
      "execution_count": 23,
      "id": "25bcbb1e",
      "metadata": {
        "id": "25bcbb1e"
      },
      "outputs": [
        {
          "name": "stdout",
          "output_type": "stream",
          "text": [
            "Gurobi Optimizer version 11.0.0 build v11.0.0rc2 (win64 - Windows 11+.0 (22631.2))\n",
            "\n",
            "CPU model: 11th Gen Intel(R) Core(TM) i5-1145G7 @ 2.60GHz, instruction set [SSE2|AVX|AVX2|AVX512]\n",
            "Thread count: 4 physical cores, 8 logical processors, using up to 8 threads\n",
            "\n",
            "Optimize a model with 24 rows, 24 columns and 192 nonzeros\n",
            "Model fingerprint: 0xbf59a2f7\n",
            "Variable types: 0 continuous, 24 integer (0 binary)\n",
            "Coefficient statistics:\n",
            "  Matrix range     [1e+00, 1e+00]\n",
            "  Objective range  [1e+00, 1e+00]\n",
            "  Bounds range     [3e+01, 3e+01]\n",
            "  RHS range        [6e+00, 3e+01]\n",
            "Found heuristic solution: objective 58.0000000\n",
            "Presolve time: 0.01s\n",
            "Presolved: 24 rows, 24 columns, 192 nonzeros\n",
            "Variable types: 0 continuous, 24 integer (0 binary)\n",
            "\n",
            "Root relaxation: objective 5.500000e+01, 14 iterations, 0.00 seconds (0.00 work units)\n",
            "\n",
            "    Nodes    |    Current Node    |     Objective Bounds      |     Work\n",
            " Expl Unexpl |  Obj  Depth IntInf | Incumbent    BestBd   Gap | It/Node Time\n",
            "\n",
            "*    0     0               0      55.0000000   55.00000  0.00%     -    0s\n",
            "\n",
            "Explored 1 nodes (14 simplex iterations) in 0.04 seconds (0.00 work units)\n",
            "Thread count was 8 (of 8 available processors)\n",
            "\n",
            "Solution count 2: 55 58 \n",
            "\n",
            "Optimal solution found (tolerance 1.00e-04)\n",
            "Best objective 5.500000000000e+01, best bound 5.500000000000e+01, gap 0.0000%\n"
          ]
        }
      ],
      "source": [
        "m = g.Model()\n",
        "\n",
        "\n",
        "# TODO: finish the model\n",
        "\n",
        "hourly_shift = m.addVars(len(d), vtype=g.GRB.INTEGER, lb=0, ub=max(d))\n",
        "\n",
        "for hour in range(len(d)):\n",
        "    m.addConstr(sum(hourly_shift[h % 24]\n",
        "                for h in range(hour-7, hour + 1)) >= d[hour])\n",
        "\n",
        "m.setObjective(hourly_shift.sum())\n",
        "\n",
        "m.optimize()"
      ]
    },
    {
      "cell_type": "code",
      "execution_count": 24,
      "id": "24cb33f9",
      "metadata": {
        "id": "24cb33f9",
        "outputId": "0b050485-3d94-4221-e057-a318d7b112b7"
      },
      "outputs": [
        {
          "data": {
            "image/png": "[encoded data removed]",
            "text/plain": [
              "<Figure size 800x400 with 1 Axes>"
            ]
          },
          "metadata": {},
          "output_type": "display_data"
        }
      ],
      "source": [
        "def plot_shifts(x_start):\n",
        "    num_shifts = [sum([x_start[k % 24] for k in range(i-7, i+1)])\n",
        "                  for i in range(24)]\n",
        "    margin = 0.2\n",
        "    width = 0.3\n",
        "    plt.figure(figsize=(8, 4))\n",
        "    plt.bar([h + margin for h in range(24)], d, width=width, color='green')\n",
        "    plt.bar([h + margin + width for h in range(24)],\n",
        "            num_shifts, width=width, color='yellow')\n",
        "    plt.xlabel(\"hour\")\n",
        "    plt.legend(['demand', 'number shifts'], ncol=2, bbox_to_anchor=(0.8, 1.1))\n",
        "    plt.xlim(0, 24)\n",
        "    plt.ylim(0, max(num_shifts + d) + 1)\n",
        "    plt.xticks(range(24), [i % 24 for i in range(24)])\n",
        "    plt.grid()\n",
        "    plt.show()\n",
        "\n",
        "\n",
        "plot_shifts([hourly_shift[i].x for i in range(24)])"
      ]
    },
    {
      "cell_type": "code",
      "execution_count": null,
      "id": "8f014dac",
      "metadata": {
        "id": "8f014dac"
      },
      "outputs": [],
      "source": []
    }
  ],
  "metadata": {
    "colab": {
      "provenance": []
    },
    "kernelspec": {
      "display_name": "Python 3 (ipykernel)",
      "language": "python",
      "name": "python3"
    },
    "language_info": {
      "codemirror_mode": {
        "name": "ipython",
        "version": 3
      },
      "file_extension": ".py",
      "mimetype": "text/x-python",
      "name": "python",
      "nbconvert_exporter": "python",
      "pygments_lexer": "ipython3",
      "version": "3.12.2"
    }
  },
  "nbformat": 4,
  "nbformat_minor": 5
}
