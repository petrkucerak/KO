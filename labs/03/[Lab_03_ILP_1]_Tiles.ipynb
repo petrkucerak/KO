{
  "cells": [
    {
      "cell_type": "markdown",
      "metadata": {
        "id": "M9U6I1jTA-sh"
      },
      "source": [
        "# Tiling the bathroom\n",
        "\n",
        "_Combinatorial Optimization course, FEE CTU in Prague. Created by [Industrial Informatics Department](http://industrialinformatics.fel.cvut.cz)._\n",
        "\n",
        "## Motivation\n",
        "\n",
        "You accidentally dropped a bowling ball in your bathroom, which cracked a significant part of the floor. You successfully removed the debris, but now you must fill the resulting rectangular hole with new tiles. However, the tiles are pretty costly, so you asked the neighbors whether they have any spares. Finally, you acquired several different rectangular tiles whose area is equal to the area of the hole. Are you able to repair the floor?\n",
        "\n",
        "## Input\n",
        "\n",
        "You are given the following:\n",
        "\n",
        "* Rectangle hole in your bathroom of dimensions $A_x,A_y$\n",
        "* $n$ different square tiles described by their size $a_i$\n",
        "\n",
        "For the experiments, you may use the following instance:"
      ]
    },
    {
      "cell_type": "code",
      "source": [
        "!pip install gurobipy"
      ],
      "metadata": {
        "id": "imwIw-6_-uTI",
        "colab": {
          "base_uri": "https://localhost:8080/"
        },
        "outputId": "d6c5dc38-145d-4177-b815-afc4fd4b37bd"
      },
      "execution_count": null,
      "outputs": [
        {
          "output_type": "stream",
          "name": "stdout",
          "text": [
            "Collecting gurobipy\n",
            "  Downloading gurobipy-11.0.1-cp310-cp310-manylinux2014_x86_64.manylinux_2_17_x86_64.whl (13.4 MB)\n",
            "\u001b[2K     \u001b[90m━━━━━━━━━━━━━━━━━━━━━━━━━━━━━━━━━━━━━━━━\u001b[0m \u001b[32m13.4/13.4 MB\u001b[0m \u001b[31m44.2 MB/s\u001b[0m eta \u001b[36m0:00:00\u001b[0m\n",
            "\u001b[?25hInstalling collected packages: gurobipy\n",
            "Successfully installed gurobipy-11.0.1\n"
          ]
        }
      ]
    },
    {
      "cell_type": "code",
      "execution_count": null,
      "metadata": {
        "id": "MMnkjagoA-sl",
        "colab": {
          "base_uri": "https://localhost:8080/"
        },
        "outputId": "c2e2cda2-fb68-4759-f09d-eb8c4144a8ec"
      },
      "outputs": [
        {
          "output_type": "execute_result",
          "data": {
            "text/plain": [
              "(1056, 1056)"
            ]
          },
          "metadata": {},
          "execution_count": 3
        }
      ],
      "source": [
        "A_x, A_y = 33, 32\n",
        "a = [1, 4, 7, 8, 9, 10, 14, 15, 18]\n",
        "# A_x, A_y = 4, 4\n",
        "# a = [2, 2, 1, 1, 1, 1, 2]\n",
        "n = len(a)\n",
        "\n",
        "A_sq = A_x * A_y\n",
        "tiles_sq = sum(a[i] * a[i] for i in range(n))\n",
        "A_sq, tiles_sq"
      ]
    },
    {
      "cell_type": "markdown",
      "metadata": {
        "id": "LEedBhDvA-sn"
      },
      "source": [
        "## Output\n",
        "\n",
        "You should find a positions of the bottom-left corners of the tiles so you fill the entire hole in your bathroom."
      ]
    },
    {
      "cell_type": "markdown",
      "metadata": {
        "id": "Uo9Pzk5FA-so"
      },
      "source": [
        "## Exercise\n",
        "\n",
        "Implement the ILP model of the problem."
      ]
    },
    {
      "cell_type": "code",
      "source": [
        "# RELATIVE ENCODING\n",
        "\n",
        "import gurobipy as g  # import Gurobi module\n",
        "from itertools import combinations\n",
        "\n",
        "# model --------------------------------------------------\n",
        "m = g.Model()\n",
        "\n",
        "# bottom left rectangles' coordinates\n",
        "xs = m.addVars(n, lb=0, ub=A_sq, vtype=g.GRB.INTEGER)\n",
        "ys = m.addVars(n, lb=0, ub=A_sq, vtype=g.GRB.INTEGER)\n",
        "\n",
        "# relative position variables\n",
        "rp_x = m.addVars(n, n, vtype=g.GRB.BINARY)\n",
        "rp_y = m.addVars(n, n, vtype=g.GRB.BINARY)\n",
        "\n",
        "# This could be embedded into variable creation (0 skipped, because already ensured by lb)\n",
        "for i in range(n):\n",
        "    m.addConstr(xs[i] + a[i] <= A_x)\n",
        "    m.addConstr(ys[i] + a[i] <= A_y)\n",
        "\n",
        "# Solve relative placement (pairs) - so we do not get overlap\n",
        "for i, j in combinations([i for i in range(n)], 2):\n",
        "\n",
        "    # first left to second\n",
        "    m.addConstr(xs[i] + a[i] <= xs[j] + A_sq * (1 - rp_x[i, j]))\n",
        "    # second left to first\n",
        "    m.addConstr(xs[j] + a[j] <= xs[i] + A_sq * (1 - rp_x[j, i]))\n",
        "    # first under the second\n",
        "    m.addConstr(ys[i] + a[i] <= ys[j] + A_sq * (1 - rp_y[i, j]))\n",
        "    # second under the first\n",
        "    m.addConstr(ys[j] + a[j] <= ys[i] + A_sq * (1 - rp_y[j, i]))\n",
        "\n",
        "\n",
        "    # at least one relative position constraint needs to hold to ensure there is no overlap\n",
        "    m.addConstr(rp_x[i, j] + rp_x[j, i] + rp_y[i, j] + rp_y[j, i] >= 1)\n",
        "\n",
        "m.optimize()\n",
        "\n",
        "# Parse for image\n",
        "positions = [(0, 0) for i in range(n)]\n",
        "for i in range(n):\n",
        "    positions[i] = (round(xs[i].x), round(ys[i].x))"
      ],
      "metadata": {
        "id": "fwiKyhkto62g",
        "colab": {
          "base_uri": "https://localhost:8080/"
        },
        "outputId": "ec78e007-5843-4e9e-9fed-3ecc85bb49cd"
      },
      "execution_count": null,
      "outputs": [
        {
          "output_type": "stream",
          "name": "stdout",
          "text": [
            "Restricted license - for non-production use only - expires 2025-11-24\n",
            "Gurobi Optimizer version 11.0.1 build v11.0.1rc0 (linux64 - \"Ubuntu 22.04.3 LTS\")\n",
            "\n",
            "CPU model: AMD EPYC 7B12, instruction set [SSE2|AVX|AVX2]\n",
            "Thread count: 1 physical cores, 2 logical processors, using up to 2 threads\n",
            "\n",
            "Optimize a model with 198 rows, 180 columns and 594 nonzeros\n",
            "Model fingerprint: 0x80d70b61\n",
            "Variable types: 0 continuous, 180 integer (162 binary)\n",
            "Coefficient statistics:\n",
            "  Matrix range     [1e+00, 1e+03]\n",
            "  Objective range  [0e+00, 0e+00]\n",
            "  Bounds range     [1e+00, 1e+03]\n",
            "  RHS range        [1e+00, 1e+03]\n",
            "Presolve removed 23 rows and 23 columns\n",
            "Presolve time: 0.00s\n",
            "Presolved: 175 rows, 157 columns, 560 nonzeros\n",
            "Variable types: 0 continuous, 157 integer (141 binary)\n",
            "\n",
            "Root relaxation: objective 0.000000e+00, 62 iterations, 0.00 seconds (0.00 work units)\n",
            "\n",
            "    Nodes    |    Current Node    |     Objective Bounds      |     Work\n",
            " Expl Unexpl |  Obj  Depth IntInf | Incumbent    BestBd   Gap | It/Node Time\n",
            "\n",
            "     0     0    0.00000    0    4          -    0.00000      -     -    0s\n",
            "     0     0    0.00000    0    4          -    0.00000      -     -    0s\n",
            "     0     0    0.00000    0   21          -    0.00000      -     -    0s\n",
            "     0     0    0.00000    0    2          -    0.00000      -     -    0s\n",
            "     0     0    0.00000    0    9          -    0.00000      -     -    0s\n",
            "     0     0    0.00000    0    4          -    0.00000      -     -    0s\n",
            "     0     0    0.00000    0    4          -    0.00000      -     -    0s\n",
            "     0     2    0.00000    0    4          -    0.00000      -     -    0s\n",
            "*  396     1              23       0.0000000    0.00000  0.00%  10.3    0s\n",
            "\n",
            "Cutting planes:\n",
            "  Learned: 18\n",
            "  Gomory: 6\n",
            "  Cover: 193\n",
            "  Implied bound: 98\n",
            "  Clique: 14\n",
            "  MIR: 12\n",
            "  StrongCG: 9\n",
            "  Inf proof: 14\n",
            "  RLT: 4\n",
            "  Relax-and-lift: 8\n",
            "  PSD: 1\n",
            "\n",
            "Explored 397 nodes (4705 simplex iterations) in 0.30 seconds (0.08 work units)\n",
            "Thread count was 2 (of 2 available processors)\n",
            "\n",
            "Solution count 1: 0 \n",
            "\n",
            "Optimal solution found (tolerance 1.00e-04)\n",
            "Best objective 0.000000000000e+00, best bound 0.000000000000e+00, gap 0.0000%\n"
          ]
        }
      ]
    },
    {
      "cell_type": "code",
      "source": [
        "# POSITION ENCODING\n",
        "\n",
        "import gurobipy as g  # import Gurobi module\n",
        "\n",
        "# model --------------------------------------------------\n",
        "m = g.Model()\n",
        "\n",
        "xs = m.addVars(A_x, A_y, n, vtype=g.GRB.BINARY)\n",
        "ys = m.addVars(A_x, A_y, n, vtype=g.GRB.BINARY)\n",
        "\n",
        "m.addConstr(A_sq == tiles_sq) # since this model tries to fill each tile, we need to check whether it is possible (tiles_sq >= A_sq) and also check that there is no overlap if each tile is filled (tiles_sq <= A_sq)\n",
        "\n",
        "m.addConstrs(xs.sum(\"*\", \"*\", i) == 1 for i in range(n)) # each bottom-left corner of some tile is placed somewhere\n",
        "m.addConstrs(xs.sum(x, y, \"*\") <= 1 for x in range(A_x) for y in range(A_y)) # each position has at most one bottom-left corner of some tile\n",
        "\n",
        "for x in range(A_x):\n",
        "    for y in range(A_y):\n",
        "        for i in range(n):\n",
        "            m.addConstr(ys[x, y, i] == sum(xs[x_start, y_start, i] for x_start in range(max(0, x - (a[i] - 1)), x + 1) for y_start in range(max(0, y - (a[i] - 1)), y + 1)))  # connectivness and completeteness of tile placement\n",
        "\n",
        "for x in range(A_x):\n",
        "    for y in range(A_y):\n",
        "        m.addConstr(ys.sum(x, y, \"*\") == 1) # each position is occupied by exactly one tile\n",
        "\n",
        "m.optimize()\n",
        "\n",
        "# solution -----------------------------------------------\n",
        "positions = [(0,0) for i in range(n)]\n",
        "for x in range(A_x):\n",
        "    for y in range(A_y):\n",
        "        for i in range(n):\n",
        "            if xs[x, y, i].X > .5:\n",
        "                assert positions[i] == (0, 0)\n",
        "                positions[i] = (x, y)\n",
        "positions"
      ],
      "metadata": {
        "id": "IO9zp51nqp2M",
        "colab": {
          "base_uri": "https://localhost:8080/",
          "height": 332
        },
        "outputId": "995e1742-7053-4398-9f74-0348baf23b1c"
      },
      "execution_count": null,
      "outputs": [
        {
          "output_type": "stream",
          "name": "stdout",
          "text": [
            "Gurobi Optimizer version 11.0.1 build v11.0.1rc0 (linux64 - \"Ubuntu 22.04.3 LTS\")\n",
            "\n",
            "CPU model: AMD EPYC 7B12, instruction set [SSE2|AVX|AVX2]\n",
            "Thread count: 1 physical cores, 2 logical processors, using up to 2 threads\n",
            "\n"
          ]
        },
        {
          "output_type": "error",
          "ename": "GurobiError",
          "evalue": "Model too large for size-limited license; visit https://gurobi.com/unrestricted for more information",
          "traceback": [
            "\u001b[0;31m---------------------------------------------------------------------------\u001b[0m",
            "\u001b[0;31mGurobiError\u001b[0m                               Traceback (most recent call last)",
            "\u001b[0;32m<ipython-input-6-1c80311dd7bf>\u001b[0m in \u001b[0;36m<cell line: 25>\u001b[0;34m()\u001b[0m\n\u001b[1;32m     23\u001b[0m         \u001b[0mm\u001b[0m\u001b[0;34m.\u001b[0m\u001b[0maddConstr\u001b[0m\u001b[0;34m(\u001b[0m\u001b[0mys\u001b[0m\u001b[0;34m.\u001b[0m\u001b[0msum\u001b[0m\u001b[0;34m(\u001b[0m\u001b[0mx\u001b[0m\u001b[0;34m,\u001b[0m \u001b[0my\u001b[0m\u001b[0;34m,\u001b[0m \u001b[0;34m\"*\"\u001b[0m\u001b[0;34m)\u001b[0m \u001b[0;34m==\u001b[0m \u001b[0;36m1\u001b[0m\u001b[0;34m)\u001b[0m \u001b[0;31m# each position is occupied by exactly one tile\u001b[0m\u001b[0;34m\u001b[0m\u001b[0;34m\u001b[0m\u001b[0m\n\u001b[1;32m     24\u001b[0m \u001b[0;34m\u001b[0m\u001b[0m\n\u001b[0;32m---> 25\u001b[0;31m \u001b[0mm\u001b[0m\u001b[0;34m.\u001b[0m\u001b[0moptimize\u001b[0m\u001b[0;34m(\u001b[0m\u001b[0;34m)\u001b[0m\u001b[0;34m\u001b[0m\u001b[0;34m\u001b[0m\u001b[0m\n\u001b[0m\u001b[1;32m     26\u001b[0m \u001b[0;34m\u001b[0m\u001b[0m\n\u001b[1;32m     27\u001b[0m \u001b[0;31m# solution -----------------------------------------------\u001b[0m\u001b[0;34m\u001b[0m\u001b[0;34m\u001b[0m\u001b[0m\n",
            "\u001b[0;32msrc/gurobipy/model.pxi\u001b[0m in \u001b[0;36mgurobipy.Model.optimize\u001b[0;34m()\u001b[0m\n",
            "\u001b[0;31mGurobiError\u001b[0m: Model too large for size-limited license; visit https://gurobi.com/unrestricted for more information"
          ]
        }
      ]
    },
    {
      "cell_type": "markdown",
      "metadata": {
        "id": "xOFjwk28A-sq"
      },
      "source": [
        "## Visualisation\n",
        "\n"
      ]
    },
    {
      "cell_type": "code",
      "execution_count": null,
      "metadata": {
        "scrolled": false,
        "id": "xax3CkazA-sq",
        "colab": {
          "base_uri": "https://localhost:8080/",
          "height": 430
        },
        "outputId": "47225199-fea1-481b-ac34-18a613fe990e"
      },
      "outputs": [
        {
          "output_type": "display_data",
          "data": {
            "text/plain": [
              "<Figure size 640x480 with 1 Axes>"
            ],
            "image/png": "[encoded data removed]"
          },
          "metadata": {}
        }
      ],
      "source": [
        "import matplotlib.pyplot as plt\n",
        "from matplotlib.patches import Rectangle\n",
        "import matplotlib.cm as cm\n",
        "\n",
        "fig, ax = plt.subplots()\n",
        "\n",
        "# ax.set_xlim((0, Ax.x))  # Useful for optimization case\n",
        "# ax.set_ylim((0, Ay.x))\n",
        "ax.set_xlim((0, A_x))\n",
        "ax.set_ylim((0, A_y))\n",
        "ax.set_aspect(\"equal\")\n",
        "\n",
        "# positions in form of (x, y)\n",
        "for i in range(n):\n",
        "    ax.add_patch(Rectangle(positions[i], a[i], a[i], color=cm.rainbow((i + 0.5)/n)))\n",
        "\n",
        "plt.show()"
      ]
    }
  ],
  "metadata": {
    "kernelspec": {
      "display_name": "Python 3",
      "name": "python3"
    },
    "language_info": {
      "codemirror_mode": {
        "name": "ipython",
        "version": 3
      },
      "file_extension": ".py",
      "mimetype": "text/x-python",
      "name": "python",
      "nbconvert_exporter": "python",
      "pygments_lexer": "ipython3",
      "version": "3.10.6"
    },
    "colab": {
      "provenance": []
    }
  },
  "nbformat": 4,
  "nbformat_minor": 0
}