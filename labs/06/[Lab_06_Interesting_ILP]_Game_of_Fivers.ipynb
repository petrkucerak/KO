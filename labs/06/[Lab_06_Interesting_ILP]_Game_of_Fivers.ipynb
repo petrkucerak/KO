{
  "cells": [
    {
      "cell_type": "markdown",
      "metadata": {
        "id": "UjFl17SXug2w"
      },
      "source": [
        "# Game of Fivers\n",
        "\n",
        "_Combinatorial Optimization course, FEE CTU in Prague. Created by [Industrial Informatics Department](http://industrialinformatics.fel.cvut.cz)._\n",
        "\n",
        "## Motivation\n",
        "\n",
        "Riddle: On a square board of size $(n \\times n)$ there lie $n^2$ stones. Every stone has two sides - white and black. In the beginning, all stones have the white side facing upwards.\n",
        "\n",
        "You may turn the stone (white to black or black to white), but if you do that, all the stones in its 4-neighborhood will be turned as well. You want to reach the state in which all the stones have their black sides facing upwards.\n",
        "\n",
        "What is the minimal number of moves you need to do?\n",
        "\n",
        "## Input\n",
        "\n",
        "You are given a positive integer $n \\geq 3$, representing the size of the board.\n",
        "\n",
        "## Model\n",
        "\n",
        "If we want to model the problem, we need to use several properties of the problem:\n",
        "\n",
        "**1) Order of the moves is not important.**\n",
        "\n",
        "<img src=\"https://rtime.ciirc.cvut.cz/~novakan9/KOA/jupiters/fivers/image_1.png\" alt=\"Order is not important\" width=\"200px\"/>\n",
        "\n",
        "**2) Each stone is selected at most once.**\n",
        "    \n",
        "Imagine a sequence of moves:\n",
        "    \n",
        "$$\n",
        "\\dots (3,2) \\dots (3,2) \\dots (3,2) \\dots\n",
        "$$\n",
        "    \n",
        "Because the order is not important, we can write\n",
        "  \n",
        "$$\n",
        "\\dots (3,2), (3,2), (3,2) \\dots\n",
        "$$\n",
        "   \n",
        "It is easy to see, that even number of moves (with a same piece) will cancel the effect.\n",
        "\n",
        "**3) Color of the top side of the stone depends on the 4-neighbourhood (and the stone itself).**\n",
        "\n",
        "<img src=\"https://rtime.ciirc.cvut.cz/~novakan9/KOA/jupiters/fivers/image_2.png\" alt=\"Color depends on 4-neighborhood\" width=\"400\"/>\n"
      ]
    },
    {
      "cell_type": "code",
      "execution_count": 32,
      "metadata": {
        "id": "rb3vbEjhug2z"
      },
      "outputs": [],
      "source": [
        "n = 5"
      ]
    },
    {
      "cell_type": "code",
      "execution_count": 33,
      "metadata": {
        "colab": {
          "base_uri": "https://localhost:8080/"
        },
        "id": "f81bKqw8wClA",
        "outputId": "bc151ed2-4291-497c-fac8-91f8ab5d5ed2"
      },
      "outputs": [
        {
          "name": "stdout",
          "output_type": "stream",
          "text": [
            "Defaulting to user installation because normal site-packages is not writeable\n",
            "Requirement already satisfied: gurobipy in c:\\users\\petr.kucera\\appdata\\roaming\\python\\python312\\site-packages (11.0.0)\n"
          ]
        }
      ],
      "source": [
        "!pip install gurobipy\n",
        "import gurobipy as g"
      ]
    },
    {
      "cell_type": "markdown",
      "metadata": {
        "id": "Awo8hYCbug20"
      },
      "source": [
        "## Output\n",
        "\n",
        "You should find a minimal number of moves that need to be done to reach the final states (all stones black). Also, you should provide the moves (e.g., a list of positions of the stones to be turned over).\n",
        "\n",
        "## Model"
      ]
    },
    {
      "cell_type": "code",
      "execution_count": 35,
      "metadata": {
        "colab": {
          "base_uri": "https://localhost:8080/",
          "height": 196
        },
        "id": "K7w9jxQ0ug21",
        "outputId": "f0b16fa8-1e05-449f-aff8-a2eadd8c30cb"
      },
      "outputs": [
        {
          "name": "stdout",
          "output_type": "stream",
          "text": [
            "Gurobi Optimizer version 11.0.0 build v11.0.0rc2 (win64 - Windows 11+.0 (22631.2))\n",
            "\n",
            "CPU model: 11th Gen Intel(R) Core(TM) i5-1145G7 @ 2.60GHz, instruction set [SSE2|AVX|AVX2|AVX512]\n",
            "Thread count: 4 physical cores, 8 logical processors, using up to 8 threads\n",
            "\n",
            "Optimize a model with 29 rows, 98 columns and 178 nonzeros\n",
            "Model fingerprint: 0x4f7ac5f9\n",
            "Variable types: 0 continuous, 98 integer (49 binary)\n",
            "Coefficient statistics:\n",
            "  Matrix range     [1e+00, 2e+00]\n",
            "  Objective range  [1e+00, 1e+00]\n",
            "  Bounds range     [1e+00, 1e+00]\n",
            "  RHS range        [1e+00, 1e+00]\n",
            "Presolve removed 25 rows and 91 columns\n",
            "Presolve time: 0.00s\n",
            "Presolved: 4 rows, 7 columns, 16 nonzeros\n",
            "Variable types: 0 continuous, 7 integer (7 binary)\n",
            "Found heuristic solution: objective 15.0000000\n",
            "\n",
            "Explored 0 nodes (0 simplex iterations) in 0.03 seconds (0.00 work units)\n",
            "Thread count was 8 (of 8 available processors)\n",
            "\n",
            "Solution count 1: 15 \n",
            "\n",
            "Optimal solution found (tolerance 1.00e-04)\n",
            "Best objective 1.500000000000e+01, best bound 1.500000000000e+01, gap 0.0000%\n"
          ]
        },
        {
          "data": {
            "image/png": "[encoded data removed]",
            "text/plain": [
              "<Figure size 640x480 with 1 Axes>"
            ]
          },
          "metadata": {},
          "output_type": "display_data"
        }
      ],
      "source": [
        "m = g.Model()\n",
        "\n",
        "stones = m.addVars(n + 2, n + 2, vtype=g.GRB.BINARY)\n",
        "tmp = m.addVars(n + 2, n + 2, vtype=g.GRB.INTEGER)\n",
        "\n",
        "for i in range(1, n + 1):\n",
        "    for j in range(1, n + 1):\n",
        "        m.addConstr(\n",
        "            (stones[i, j] + stones[i - 1, j] + stones[i + 1, j] +\n",
        "             stones[i, j - 1] + stones[i, j + 1]) == 2 * tmp[i, j] + 1)\n",
        "\n",
        "m.addConstr(stones.sum(0, \"*\") == 0)\n",
        "m.addConstr(stones.sum(n+1, \"*\") == 0)\n",
        "m.addConstr(stones.sum(\"*\", 0) == 0)\n",
        "m.addConstr(stones.sum(\"*\", n+1) == 0)\n",
        "\n",
        "m.setObjective(stones.sum())\n",
        "\n",
        "m.optimize()\n",
        "\n",
        "X = []\n",
        "for i in range(1, n + 1):\n",
        "    X.append([])\n",
        "    for j in range(1, n+1):\n",
        "        X[i-1].append(stones[i, j].x)\n",
        "\n",
        "visualize(X, n)"
      ]
    },
    {
      "cell_type": "markdown",
      "metadata": {
        "id": "yJ-RpkZIug22"
      },
      "source": [
        " ##  Visualization"
      ]
    },
    {
      "cell_type": "code",
      "execution_count": 34,
      "metadata": {
        "colab": {
          "base_uri": "https://localhost:8080/",
          "height": 411
        },
        "id": "P704cCD-ug22",
        "outputId": "bfd54a91-c905-49b4-8bf6-535e384df369"
      },
      "outputs": [
        {
          "data": {
            "image/png": "[encoded data removed]",
            "text/plain": [
              "<Figure size 640x480 with 1 Axes>"
            ]
          },
          "metadata": {},
          "output_type": "display_data"
        }
      ],
      "source": [
        "import matplotlib.pyplot as plt\n",
        "import numpy as np\n",
        "\n",
        "def visualize(board, n):\n",
        "    board = np.array(board)\n",
        "    clicks = np.argwhere(board == 1)\n",
        "    plt.imshow(board, interpolation='none')\n",
        "    plt.scatter(clicks[:, 1], clicks[:, 0], c='red')\n",
        "    plt.gca().set_xticks(np.arange(-0.5, n, 1))\n",
        "    plt.gca().set_xticklabels([])\n",
        "    plt.gca().set_yticks(np.arange(-0.5, n, 1))\n",
        "    plt.gca().set_yticklabels([])\n",
        "    plt.grid()\n",
        "    plt.show()\n",
        "\n",
        "visualize(X, n)"
      ]
    },
    {
      "cell_type": "markdown",
      "metadata": {
        "id": "_8PRtpraug23"
      },
      "source": [
        "## Additional exercise\n",
        "\n",
        "- Try to experiment with the model for different values of parameter $n$.\n",
        "- See, how far is the model scalable (i.e., is it able to solve the problem for n ~ 10, n ~ 100, or even more in a reasonable time?)."
      ]
    }
  ],
  "metadata": {
    "colab": {
      "provenance": []
    },
    "kernelspec": {
      "display_name": "Python 3 (ipykernel)",
      "language": "python",
      "name": "python3"
    },
    "language_info": {
      "codemirror_mode": {
        "name": "ipython",
        "version": 3
      },
      "file_extension": ".py",
      "mimetype": "text/x-python",
      "name": "python",
      "nbconvert_exporter": "python",
      "pygments_lexer": "ipython3",
      "version": "3.12.2"
    }
  },
  "nbformat": 4,
  "nbformat_minor": 0
}
