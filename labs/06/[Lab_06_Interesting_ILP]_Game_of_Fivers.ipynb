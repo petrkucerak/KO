{
  "cells": [
    {
      "cell_type": "markdown",
      "metadata": {
        "id": "UjFl17SXug2w"
      },
      "source": [
        "# Game of Fivers\n",
        "\n",
        "_Combinatorial Optimization course, FEE CTU in Prague. Created by [Industrial Informatics Department](http://industrialinformatics.fel.cvut.cz)._\n",
        "\n",
        "## Motivation\n",
        "\n",
        "Riddle: On a square board of size $(n \\times n)$ there lie $n^2$ stones. Every stone has two sides - white and black. In the beginning, all stones have the white side facing upwards.\n",
        "\n",
        "You may turn the stone (white to black or black to white), but if you do that, all the stones in its 4-neighborhood will be turned as well. You want to reach the state in which all the stones have their black sides facing upwards.\n",
        "\n",
        "What is the minimal number of moves you need to do?\n",
        "\n",
        "## Input\n",
        "\n",
        "You are given a positive integer $n \\geq 3$, representing the size of the board.\n",
        "\n",
        "## Model\n",
        "\n",
        "If we want to model the problem, we need to use several properties of the problem:\n",
        "\n",
        "**1) Order of the moves is not important.**\n",
        "\n",
        "<img src=\"https://rtime.ciirc.cvut.cz/~novakan9/KOA/jupiters/fivers/image_1.png\" alt=\"Order is not important\" width=\"200px\"/>\n",
        "\n",
        "**2) Each stone is selected at most once.**\n",
        "    \n",
        "Imagine a sequence of moves:\n",
        "    \n",
        "$$\n",
        "\\dots (3,2) \\dots (3,2) \\dots (3,2) \\dots\n",
        "$$\n",
        "    \n",
        "Because the order is not important, we can write\n",
        "  \n",
        "$$\n",
        "\\dots (3,2), (3,2), (3,2) \\dots\n",
        "$$\n",
        "   \n",
        "It is easy to see, that even number of moves (with a same piece) will cancel the effect.\n",
        "\n",
        "**3) Color of the top side of the stone depends on the 4-neighbourhood (and the stone itself).**\n",
        "\n",
        "<img src=\"https://rtime.ciirc.cvut.cz/~novakan9/KOA/jupiters/fivers/image_2.png\" alt=\"Color depends on 4-neighborhood\" width=\"400\"/>\n"
      ]
    },
    {
      "cell_type": "code",
      "execution_count": null,
      "metadata": {
        "id": "rb3vbEjhug2z"
      },
      "outputs": [],
      "source": [
        "n = 10"
      ]
    },
    {
      "cell_type": "code",
      "source": [
        "!pip install gurobipy\n",
        "import gurobipy as g"
      ],
      "metadata": {
        "id": "f81bKqw8wClA",
        "colab": {
          "base_uri": "https://localhost:8080/"
        },
        "outputId": "bc151ed2-4291-497c-fac8-91f8ab5d5ed2"
      },
      "execution_count": null,
      "outputs": [
        {
          "output_type": "stream",
          "name": "stdout",
          "text": [
            "Requirement already satisfied: gurobipy in /usr/local/lib/python3.10/dist-packages (11.0.1)\n"
          ]
        }
      ]
    },
    {
      "cell_type": "markdown",
      "metadata": {
        "id": "Awo8hYCbug20"
      },
      "source": [
        "## Output\n",
        "\n",
        "You should find a minimal number of moves that need to be done to reach the final states (all stones black). Also, you should provide the moves (e.g., a list of positions of the stones to be turned over).\n",
        "\n",
        "## Model"
      ]
    },
    {
      "cell_type": "code",
      "execution_count": null,
      "metadata": {
        "id": "K7w9jxQ0ug21",
        "outputId": "f0b16fa8-1e05-449f-aff8-a2eadd8c30cb",
        "colab": {
          "base_uri": "https://localhost:8080/",
          "height": 196
        }
      },
      "outputs": [
        {
          "output_type": "error",
          "ename": "NameError",
          "evalue": "name 'g' is not defined",
          "traceback": [
            "\u001b[0;31m---------------------------------------------------------------------------\u001b[0m",
            "\u001b[0;31mNameError\u001b[0m                                 Traceback (most recent call last)",
            "\u001b[0;32m<ipython-input-1-c7cc02a8bdb3>\u001b[0m in \u001b[0;36m<cell line: 2>\u001b[0;34m()\u001b[0m\n\u001b[1;32m      1\u001b[0m \u001b[0mn\u001b[0m \u001b[0;34m=\u001b[0m \u001b[0;36m19\u001b[0m\u001b[0;34m\u001b[0m\u001b[0;34m\u001b[0m\u001b[0m\n\u001b[0;32m----> 2\u001b[0;31m \u001b[0mm\u001b[0m \u001b[0;34m=\u001b[0m \u001b[0mg\u001b[0m\u001b[0;34m.\u001b[0m\u001b[0mModel\u001b[0m\u001b[0;34m(\u001b[0m\u001b[0;34m)\u001b[0m\u001b[0;34m\u001b[0m\u001b[0;34m\u001b[0m\u001b[0m\n\u001b[0m\u001b[1;32m      3\u001b[0m \u001b[0;34m\u001b[0m\u001b[0m\n\u001b[1;32m      4\u001b[0m \u001b[0mvisualize\u001b[0m\u001b[0;34m(\u001b[0m\u001b[0mX\u001b[0m\u001b[0;34m,\u001b[0m \u001b[0mn\u001b[0m\u001b[0;34m)\u001b[0m\u001b[0;34m\u001b[0m\u001b[0;34m\u001b[0m\u001b[0m\n",
            "\u001b[0;31mNameError\u001b[0m: name 'g' is not defined"
          ]
        }
      ],
      "source": [
        "m = g.Model()\n",
        "\n",
        "visualize(X, n)"
      ]
    },
    {
      "cell_type": "markdown",
      "metadata": {
        "id": "yJ-RpkZIug22"
      },
      "source": [
        " ##  Visualization"
      ]
    },
    {
      "cell_type": "code",
      "execution_count": null,
      "metadata": {
        "id": "P704cCD-ug22",
        "outputId": "bfd54a91-c905-49b4-8bf6-535e384df369",
        "colab": {
          "base_uri": "https://localhost:8080/",
          "height": 411
        }
      },
      "outputs": [
        {
          "output_type": "display_data",
          "data": {
            "text/plain": [
              "<Figure size 640x480 with 1 Axes>"
            ],
            "image/png": "[encoded data removed]"
          },
          "metadata": {}
        }
      ],
      "source": [
        "import matplotlib.pyplot as plt\n",
        "import numpy as np\n",
        "\n",
        "def visualize(board, n):\n",
        "    board = np.array(board)\n",
        "    clicks = np.argwhere(board == 1)\n",
        "    plt.imshow(board, interpolation='none')\n",
        "    plt.scatter(clicks[:, 1], clicks[:, 0], c='red')\n",
        "    plt.gca().set_xticks(np.arange(-0.5, n, 1))\n",
        "    plt.gca().set_xticklabels([])\n",
        "    plt.gca().set_yticks(np.arange(-0.5, n, 1))\n",
        "    plt.gca().set_yticklabels([])\n",
        "    plt.grid()\n",
        "    plt.show()\n",
        "\n",
        "visualize(X, n)"
      ]
    },
    {
      "cell_type": "markdown",
      "metadata": {
        "id": "_8PRtpraug23"
      },
      "source": [
        "## Additional exercise\n",
        "\n",
        "- Try to experiment with the model for different values of parameter $n$.\n",
        "- See, how far is the model scalable (i.e., is it able to solve the problem for n ~ 10, n ~ 100, or even more in a reasonable time?)."
      ]
    }
  ],
  "metadata": {
    "kernelspec": {
      "display_name": "Python 3 (ipykernel)",
      "language": "python",
      "name": "python3"
    },
    "language_info": {
      "codemirror_mode": {
        "name": "ipython",
        "version": 3
      },
      "file_extension": ".py",
      "mimetype": "text/x-python",
      "name": "python",
      "nbconvert_exporter": "python",
      "pygments_lexer": "ipython3",
      "version": "3.9.6"
    },
    "colab": {
      "provenance": []
    }
  },
  "nbformat": 4,
  "nbformat_minor": 0
}