{
  "cells": [
    {
      "cell_type": "markdown",
      "metadata": {
        "id": "8RRCTHtEugHc"
      },
      "source": [
        "# Find the Tents\n",
        "\n",
        "_Combinatorial Optimization course, FEE CTU in Prague. Created by [Industrial Informatics Department](http://industrialinformatics.fel.cvut.cz)._\n",
        "\n",
        "The problem was taken from https://www.brainbashers.com/tents.asp ; there, you can try to solve some examples manually.\n",
        "\n",
        "## Task\n",
        "\n",
        "Find all of the hidden tents in the forest grid.\n",
        "\n",
        "You know that:\n",
        "\n",
        "- Each tent is attached to one tree (so there are as many tents as there are trees).\n",
        "- A tent can only be found horizontally or vertically adjacent to a tree.\n",
        "- Tents are never adjacent to each other, neither vertically, horizontally, nor diagonally.\n",
        "- A tree might be next to two tents but is only connected to one.\n",
        "\n",
        "You are also given two vectors indicating how many tents are in each respective row or column of the forest grid.\n",
        "\n",
        "\n",
        "## Input\n",
        "\n",
        "You are given a positive integer $n \\geq 2$, representing the size of the forest grid (assume it is a square of size $(n \\times n$). You are also given vectors $\\mathbf r = (r_1, \\dots, r_n)$ and $\\mathbf c = (c_1, \\dots, c_n)$ representing the numbers of the tents in the rows and columns of the forest grid. Finally, you are given a list of coordinates of the trees $((x_1, y_1), \\dots, (x_k, y_k))$.\n"
      ]
    },
    {
      "cell_type": "code",
      "source": [
        "!pip install gurobipy\n",
        "import gurobipy as g"
      ],
      "metadata": {
        "id": "PtS00CCIvBj2"
      },
      "execution_count": null,
      "outputs": []
    },
    {
      "cell_type": "code",
      "execution_count": null,
      "metadata": {
        "id": "UAo5nYwkugHe"
      },
      "outputs": [],
      "source": [
        "# 2x2 - Extra small (for debugging)\n",
        "n = 3\n",
        "r = (1, 1, 0)\n",
        "c = (1, 0, 1)\n",
        "trees = [(1,1), (3,2)]"
      ]
    },
    {
      "cell_type": "code",
      "execution_count": null,
      "metadata": {
        "id": "JXDHetpvugHe"
      },
      "outputs": [],
      "source": [
        "# 8x8 - Medium\n",
        "n = 8\n",
        "r = (3, 1, 1, 2, 0, 2, 0, 3)\n",
        "c = (2, 1, 2, 2 ,1, 1 ,2 ,1)\n",
        "trees = [(2, 1), (5, 1), (6, 1),\n",
        "         (1, 2),\n",
        "         (3, 3),\n",
        "         (3, 4), (6, 4),\n",
        "         (4, 5), (6, 5),\n",
        "         (8, 7),\n",
        "         (2, 8), (4, 8)]"
      ]
    },
    {
      "cell_type": "code",
      "execution_count": null,
      "metadata": {
        "id": "YttGHCJrugHf"
      },
      "outputs": [],
      "source": [
        "# Weekly special\n",
        "n = 20\n",
        "r = (7, 2, 3, 4, 3, 5, 4, 4, 4, 4, 3, 6, 3, 6, 2, 3, 6, 3, 3, 5)\n",
        "c = (6, 4, 3, 5, 4, 4, 4, 3, 5, 3, 4, 3, 4, 4, 6, 3 ,4, 3, 6, 2)\n",
        "trees = [(3, 1), (4, 1), (8, 1), (13, 1), (15, 1),\n",
        "         (1, 2), (9, 2), (18, 2), (19, 2),\n",
        "         (5, 3), (12, 3), (15, 3),\n",
        "         (2, 4), (4, 4), (9, 4), (17, 4),\n",
        "         (6, 5), (10, 5), (13, 5), (17, 5), (20, 5),\n",
        "         (1, 6), (7, 6), (10, 6), (12, 6), (16, 6),\n",
        "         (20, 7),\n",
        "         (1, 8), (4, 8), (5, 8), (11, 8), (13, 8), (14, 8), (19, 8),\n",
        "         (4, 9), (6, 9), (9, 9), (15, 9), (17, 9),\n",
        "         (8, 10), (17, 10), (19, 10),\n",
        "         (12, 11),\n",
        "         (5, 12), (7, 12), (14, 12), (16, 12),\n",
        "         (1, 13), (2, 13), (6, 13), (19, 13),\n",
        "         (11, 14), (14, 14), (20, 14),\n",
        "         (3, 15), (5, 15), (6, 15), (8, 15), (13, 15), (20, 15),\n",
        "         (2, 16), (3, 16), (10, 16),\n",
        "         (8, 17), (11, 17), (14, 17), (15, 17),\n",
        "         (2, 18), (6, 18), (9, 18), (12, 18), (13, 18), (18, 18),\n",
        "         (2, 19), (7, 19), (15, 19), (17, 19), (20, 19),\n",
        "         (5, 20), (10, 20)]"
      ]
    },
    {
      "cell_type": "markdown",
      "metadata": {
        "id": "D08OIiYFugHf"
      },
      "source": [
        "## Output\n",
        "\n",
        "You should find the coordinates $(x_i, y_i), i \\in \\{1,\\dots,k\\}$, of the individual tents.\n",
        "\n",
        "## Model"
      ]
    },
    {
      "cell_type": "code",
      "execution_count": null,
      "metadata": {
        "id": "ogBHKSQgugHg"
      },
      "outputs": [],
      "source": [
        "# TODO"
      ]
    },
    {
      "cell_type": "markdown",
      "metadata": {
        "id": "tuyeYInbugHg"
      },
      "source": [
        " ##  Visualization"
      ]
    },
    {
      "cell_type": "code",
      "execution_count": null,
      "metadata": {
        "id": "V1nDLxgqugHg"
      },
      "outputs": [],
      "source": [
        "import matplotlib.pyplot as plt\n",
        "import numpy as np\n",
        "\n",
        "def visualize(n, trees, tents, r, c):\n",
        "    grid = [[\".\" for _ in range(n+2)] for _ in range(n+2)]\n",
        "\n",
        "    for t_x, t_y in tents:\n",
        "        grid[t_y][t_x] = \"X\"\n",
        "\n",
        "    for t_x, t_y in trees:\n",
        "        grid[t_y][t_x] = \"T\"\n",
        "\n",
        "    print(\"  \", end=\"\")\n",
        "    for c_cur in c:\n",
        "        print(c_cur, end=\" \")\n",
        "    print()\n",
        "\n",
        "    for y in range(1, n+1):\n",
        "        print(r[y-1], end=\" \")\n",
        "        for x in range(1, n+1):\n",
        "            print(grid[y][x], end=\" \")\n",
        "\n",
        "        print()"
      ]
    },
    {
      "cell_type": "code",
      "execution_count": null,
      "metadata": {
        "id": "kkJY-3pmugHg"
      },
      "outputs": [],
      "source": [
        "visualize(n, trees, tents, r, c)"
      ]
    }
  ],
  "metadata": {
    "kernelspec": {
      "display_name": "Python 3 (ipykernel)",
      "language": "python",
      "name": "python3"
    },
    "language_info": {
      "codemirror_mode": {
        "name": "ipython",
        "version": 3
      },
      "file_extension": ".py",
      "mimetype": "text/x-python",
      "name": "python",
      "nbconvert_exporter": "python",
      "pygments_lexer": "ipython3",
      "version": "3.9.6"
    },
    "toc": {
      "base_numbering": 1,
      "nav_menu": {},
      "number_sections": true,
      "sideBar": true,
      "skip_h1_title": false,
      "title_cell": "Table of Contents",
      "title_sidebar": "Contents",
      "toc_cell": false,
      "toc_position": {},
      "toc_section_display": true,
      "toc_window_display": false
    },
    "varInspector": {
      "cols": {
        "lenName": 16,
        "lenType": 16,
        "lenVar": 40
      },
      "kernels_config": {
        "python": {
          "delete_cmd_postfix": "",
          "delete_cmd_prefix": "del ",
          "library": "var_list.py",
          "varRefreshCmd": "print(var_dic_list())"
        },
        "r": {
          "delete_cmd_postfix": ") ",
          "delete_cmd_prefix": "rm(",
          "library": "var_list.r",
          "varRefreshCmd": "cat(var_dic_list()) "
        }
      },
      "types_to_exclude": [
        "module",
        "function",
        "builtin_function_or_method",
        "instance",
        "_Feature"
      ],
      "window_display": false
    },
    "colab": {
      "provenance": []
    }
  },
  "nbformat": 4,
  "nbformat_minor": 0
}